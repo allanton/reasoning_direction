{
 "cells": [
  {
   "cell_type": "markdown",
   "id": "27c37b11",
   "metadata": {},
   "source": [
    "# Reasoning Direction\n",
    "\n",
    "This notebook aims to estimate the \"reasoning\" direction within the LLM activation space.\n",
    "We're basing this approach on the methodology used to find the \"refusal\" direction, but with a key difference:\n",
    "\n",
    "- **Refusal paper approach**: Used 1 LLM with 2 types of prompts (harmful vs harmless)\n",
    "- **Our approach**: Use 2 models (original vs reasoning-tuned) with the same prompts (GSM8K math problems)\n",
    "\n",
    "We'll collect activations from both models, calculate the difference (reasoning direction),\n",
    "and then test if adding this direction to the reasoning/non-reasoning model enhances its reasoning capabilities.\n",
    "\n",
    "This notebook adapts methodology from the orthogonal direction analysis demonstrated in:\n",
    "https://huggingface.co/failspy/llama-3-70B-Instruct-abliterated/blob/main/ortho_cookbook.ipynb"
   ]
  },
  {
   "cell_type": "code",
   "execution_count": 1,
   "id": "476a99e6",
   "metadata": {},
   "outputs": [
    {
     "name": "stdout",
     "output_type": "stream",
     "text": [
      "Defaulting to user installation because normal site-packages is not writeable\n",
      "Collecting transformers\n",
      "  Downloading transformers-4.49.0-py3-none-any.whl (10.0 MB)\n",
      "\u001b[2K     \u001b[90m━━━━━━━━━━━━━━━━━━━━━━━━━━━━━━━━━━━━━━━━\u001b[0m \u001b[32m10.0/10.0 MB\u001b[0m \u001b[31m76.1 MB/s\u001b[0m eta \u001b[36m0:00:00\u001b[0m00:01\u001b[0m00:01\u001b[0m\n",
      "\u001b[?25hCollecting transformers_stream_generator\n",
      "  Downloading transformers-stream-generator-0.0.5.tar.gz (13 kB)\n",
      "  Preparing metadata (setup.py) ... \u001b[?25ldone\n",
      "\u001b[?25hCollecting tiktoken\n",
      "  Downloading tiktoken-0.9.0-cp310-cp310-manylinux_2_17_x86_64.manylinux2014_x86_64.whl (1.2 MB)\n",
      "\u001b[2K     \u001b[90m━━━━━━━━━━━━━━━━━━━━━━━━━━━━━━━━━━━━━━━━\u001b[0m \u001b[32m1.2/1.2 MB\u001b[0m \u001b[31m75.6 MB/s\u001b[0m eta \u001b[36m0:00:00\u001b[0m\n",
      "\u001b[?25hCollecting transformer_lens\n",
      "  Downloading transformer_lens-2.15.0-py3-none-any.whl (189 kB)\n",
      "\u001b[2K     \u001b[90m━━━━━━━━━━━━━━━━━━━━━━━━━━━━━━━━━━━━━━\u001b[0m \u001b[32m189.2/189.2 KB\u001b[0m \u001b[31m33.1 MB/s\u001b[0m eta \u001b[36m0:00:00\u001b[0m\n",
      "\u001b[?25hCollecting einops\n",
      "  Downloading einops-0.8.1-py3-none-any.whl (64 kB)\n",
      "\u001b[2K     \u001b[90m━━━━━━━━━━━━━━━━━━━━━━━━━━━━━━━━━━━━━━━━\u001b[0m \u001b[32m64.4/64.4 KB\u001b[0m \u001b[31m12.9 MB/s\u001b[0m eta \u001b[36m0:00:00\u001b[0m\n",
      "\u001b[?25hCollecting jaxtyping\n",
      "  Downloading jaxtyping-0.2.38-py3-none-any.whl (56 kB)\n",
      "\u001b[2K     \u001b[90m━━━━━━━━━━━━━━━━━━━━━━━━━━━━━━━━━━━━━━━━\u001b[0m \u001b[32m56.4/56.4 KB\u001b[0m \u001b[31m10.4 MB/s\u001b[0m eta \u001b[36m0:00:00\u001b[0m\n",
      "\u001b[?25hRequirement already satisfied: colorama in /usr/lib/python3/dist-packages (0.4.4)\n",
      "Requirement already satisfied: scikit-learn in /usr/lib/python3/dist-packages (0.23.2)\n",
      "Collecting datasets\n",
      "  Downloading datasets-3.3.2-py3-none-any.whl (485 kB)\n",
      "\u001b[2K     \u001b[90m━━━━━━━━━━━━━━━━━━━━━━━━━━━━━━━━━━━━━━\u001b[0m \u001b[32m485.4/485.4 KB\u001b[0m \u001b[31m64.2 MB/s\u001b[0m eta \u001b[36m0:00:00\u001b[0m\n",
      "\u001b[?25hRequirement already satisfied: pyyaml>=5.1 in /usr/lib/python3/dist-packages (from transformers) (5.4.1)\n",
      "Collecting tqdm>=4.27\n",
      "  Downloading tqdm-4.67.1-py3-none-any.whl (78 kB)\n",
      "\u001b[2K     \u001b[90m━━━━━━━━━━━━━━━━━━━━━━━━━━━━━━━━━━━━━━━━\u001b[0m \u001b[32m78.5/78.5 KB\u001b[0m \u001b[31m14.7 MB/s\u001b[0m eta \u001b[36m0:00:00\u001b[0m\n",
      "\u001b[?25hCollecting regex!=2019.12.17\n",
      "  Downloading regex-2024.11.6-cp310-cp310-manylinux_2_17_x86_64.manylinux2014_x86_64.whl (781 kB)\n",
      "\u001b[2K     \u001b[90m━━━━━━━━━━━━━━━━━━━━━━━━━━━━━━━━━━━━━━\u001b[0m \u001b[32m781.7/781.7 KB\u001b[0m \u001b[31m76.3 MB/s\u001b[0m eta \u001b[36m0:00:00\u001b[0m\n",
      "\u001b[?25hCollecting safetensors>=0.4.1\n",
      "  Downloading safetensors-0.5.3-cp38-abi3-manylinux_2_17_x86_64.manylinux2014_x86_64.whl (471 kB)\n",
      "\u001b[2K     \u001b[90m━━━━━━━━━━━━━━━━━━━━━━━━━━━━━━━━━━━━━━\u001b[0m \u001b[32m471.6/471.6 KB\u001b[0m \u001b[31m63.3 MB/s\u001b[0m eta \u001b[36m0:00:00\u001b[0m\n",
      "\u001b[?25hRequirement already satisfied: numpy>=1.17 in /usr/lib/python3/dist-packages (from transformers) (1.21.5)\n",
      "Collecting huggingface-hub<1.0,>=0.26.0\n",
      "  Downloading huggingface_hub-0.29.2-py3-none-any.whl (468 kB)\n",
      "\u001b[2K     \u001b[90m━━━━━━━━━━━━━━━━━━━━━━━━━━━━━━━━━━━━━━\u001b[0m \u001b[32m468.1/468.1 KB\u001b[0m \u001b[31m61.9 MB/s\u001b[0m eta \u001b[36m0:00:00\u001b[0m\n",
      "\u001b[?25hCollecting tokenizers<0.22,>=0.21\n",
      "  Downloading tokenizers-0.21.0-cp39-abi3-manylinux_2_17_x86_64.manylinux2014_x86_64.whl (3.0 MB)\n",
      "\u001b[2K     \u001b[90m━━━━━━━━━━━━━━━━━━━━━━━━━━━━━━━━━━━━━━━━\u001b[0m \u001b[32m3.0/3.0 MB\u001b[0m \u001b[31m79.2 MB/s\u001b[0m eta \u001b[36m0:00:00\u001b[0m:00:01\u001b[0m\n",
      "\u001b[?25hRequirement already satisfied: requests in /usr/lib/python3/dist-packages (from transformers) (2.25.1)\n",
      "Requirement already satisfied: packaging>=20.0 in /usr/lib/python3/dist-packages (from transformers) (21.3)\n",
      "Requirement already satisfied: filelock in /usr/lib/python3/dist-packages (from transformers) (3.6.0)\n",
      "Collecting requests\n",
      "  Downloading requests-2.32.3-py3-none-any.whl (64 kB)\n",
      "\u001b[2K     \u001b[90m━━━━━━━━━━━━━━━━━━━━━━━━━━━━━━━━━━━━━━━━\u001b[0m \u001b[32m64.9/64.9 KB\u001b[0m \u001b[31m11.2 MB/s\u001b[0m eta \u001b[36m0:00:00\u001b[0m\n",
      "\u001b[?25hCollecting sentencepiece\n",
      "  Downloading sentencepiece-0.2.0-cp310-cp310-manylinux_2_17_x86_64.manylinux2014_x86_64.whl (1.3 MB)\n",
      "\u001b[2K     \u001b[90m━━━━━━━━━━━━━━━━━━━━━━━━━━━━━━━━━━━━━━━━\u001b[0m \u001b[32m1.3/1.3 MB\u001b[0m \u001b[31m85.6 MB/s\u001b[0m eta \u001b[36m0:00:00\u001b[0m\n",
      "\u001b[?25hCollecting better-abc<0.0.4,>=0.0.3\n",
      "  Downloading better_abc-0.0.3-py3-none-any.whl (3.5 kB)\n",
      "Requirement already satisfied: pandas>=1.1.5 in /usr/lib/python3/dist-packages (from transformer_lens) (1.3.5)\n",
      "Collecting rich>=12.6.0\n",
      "  Downloading rich-13.9.4-py3-none-any.whl (242 kB)\n",
      "\u001b[2K     \u001b[90m━━━━━━━━━━━━━━━━━━━━━━━━━━━━━━━━━━━━━━\u001b[0m \u001b[32m242.4/242.4 KB\u001b[0m \u001b[31m37.1 MB/s\u001b[0m eta \u001b[36m0:00:00\u001b[0m\n",
      "\u001b[?25hCollecting numpy>=1.17\n",
      "  Downloading numpy-2.2.3-cp310-cp310-manylinux_2_17_x86_64.manylinux2014_x86_64.whl (16.4 MB)\n",
      "\u001b[2K     \u001b[90m━━━━━━━━━━━━━━━━━━━━━━━━━━━━━━━━━━━━━━━━\u001b[0m \u001b[32m16.4/16.4 MB\u001b[0m \u001b[31m76.5 MB/s\u001b[0m eta \u001b[36m0:00:00\u001b[0m00:01\u001b[0m00:01\u001b[0m\n",
      "\u001b[?25hRequirement already satisfied: torch>=2.2 in /usr/lib/python3/dist-packages (from transformer_lens) (2.5.1)\n",
      "Requirement already satisfied: typing-extensions in /usr/lib/python3/dist-packages (from transformer_lens) (4.9.0)\n",
      "Collecting wandb>=0.13.5\n",
      "  Downloading wandb-0.19.8-py3-none-manylinux_2_17_x86_64.manylinux2014_x86_64.whl (20.8 MB)\n",
      "\u001b[2K     \u001b[90m━━━━━━━━━━━━━━━━━━━━━━━━━━━━━━━━━━━━━━━━\u001b[0m \u001b[32m20.8/20.8 MB\u001b[0m \u001b[31m69.2 MB/s\u001b[0m eta \u001b[36m0:00:00\u001b[0m00:01\u001b[0m00:01\u001b[0m\n",
      "\u001b[?25hCollecting fancy-einsum>=0.0.3\n",
      "  Downloading fancy_einsum-0.0.3-py3-none-any.whl (6.2 kB)\n",
      "Collecting beartype<0.15.0,>=0.14.1\n",
      "  Downloading beartype-0.14.1-py3-none-any.whl (739 kB)\n",
      "\u001b[2K     \u001b[90m━━━━━━━━━━━━━━━━━━━━━━━━━━━━━━━━━━━━━━\u001b[0m \u001b[32m739.7/739.7 KB\u001b[0m \u001b[31m77.0 MB/s\u001b[0m eta \u001b[36m0:00:00\u001b[0m\n",
      "\u001b[?25hCollecting typeguard<5.0,>=4.2\n",
      "  Downloading typeguard-4.4.2-py3-none-any.whl (35 kB)\n",
      "Collecting accelerate>=0.23.0\n",
      "  Downloading accelerate-1.4.0-py3-none-any.whl (342 kB)\n",
      "\u001b[2K     \u001b[90m━━━━━━━━━━━━━━━━━━━━━━━━━━━━━━━━━━━━━━\u001b[0m \u001b[32m342.1/342.1 KB\u001b[0m \u001b[31m54.2 MB/s\u001b[0m eta \u001b[36m0:00:00\u001b[0m\n",
      "\u001b[?25hCollecting wadler-lindig>=0.1.3\n",
      "  Downloading wadler_lindig-0.1.3-py3-none-any.whl (20 kB)\n",
      "Collecting multiprocess<0.70.17\n",
      "  Downloading multiprocess-0.70.16-py310-none-any.whl (134 kB)\n",
      "\u001b[2K     \u001b[90m━━━━━━━━━━━━━━━━━━━━━━━━━━━━━━━━━━━━━━\u001b[0m \u001b[32m134.8/134.8 KB\u001b[0m \u001b[31m24.1 MB/s\u001b[0m eta \u001b[36m0:00:00\u001b[0m\n",
      "\u001b[?25hCollecting pyarrow>=15.0.0\n",
      "  Downloading pyarrow-19.0.1-cp310-cp310-manylinux_2_28_x86_64.whl (42.1 MB)\n",
      "\u001b[2K     \u001b[90m━━━━━━━━━━━━━━━━━━━━━━━━━━━━━━━━━━━━━━━━\u001b[0m \u001b[32m42.1/42.1 MB\u001b[0m \u001b[31m40.9 MB/s\u001b[0m eta \u001b[36m0:00:00\u001b[0m00:01\u001b[0m00:01\u001b[0m\n",
      "\u001b[?25hCollecting dill<0.3.9,>=0.3.0\n",
      "  Downloading dill-0.3.8-py3-none-any.whl (116 kB)\n",
      "\u001b[2K     \u001b[90m━━━━━━━━━━━━━━━━━━━━━━━━━━━━━━━━━━━━━━\u001b[0m \u001b[32m116.3/116.3 KB\u001b[0m \u001b[31m23.3 MB/s\u001b[0m eta \u001b[36m0:00:00\u001b[0m\n",
      "\u001b[?25hRequirement already satisfied: fsspec[http]<=2024.12.0,>=2023.1.0 in /usr/lib/python3/dist-packages (from datasets) (2024.3.1)\n",
      "Collecting aiohttp\n",
      "  Downloading aiohttp-3.11.13-cp310-cp310-manylinux_2_17_x86_64.manylinux2014_x86_64.whl (1.6 MB)\n",
      "\u001b[2K     \u001b[90m━━━━━━━━━━━━━━━━━━━━━━━━━━━━━━━━━━━━━━━━\u001b[0m \u001b[32m1.6/1.6 MB\u001b[0m \u001b[31m89.6 MB/s\u001b[0m eta \u001b[36m0:00:00\u001b[0m\n",
      "\u001b[?25hCollecting xxhash\n",
      "  Downloading xxhash-3.5.0-cp310-cp310-manylinux_2_17_x86_64.manylinux2014_x86_64.whl (194 kB)\n",
      "\u001b[2K     \u001b[90m━━━━━━━━━━━━━━━━━━━━━━━━━━━━━━━━━━━━━━\u001b[0m \u001b[32m194.1/194.1 KB\u001b[0m \u001b[31m34.8 MB/s\u001b[0m eta \u001b[36m0:00:00\u001b[0m\n",
      "\u001b[?25hRequirement already satisfied: psutil in /usr/lib/python3/dist-packages (from accelerate>=0.23.0->transformer_lens) (5.9.0)\n",
      "Collecting yarl<2.0,>=1.17.0\n",
      "  Downloading yarl-1.18.3-cp310-cp310-manylinux_2_17_x86_64.manylinux2014_x86_64.whl (319 kB)\n",
      "\u001b[2K     \u001b[90m━━━━━━━━━━━━━━━━━━━━━━━━━━━━━━━━━━━━━━\u001b[0m \u001b[32m319.7/319.7 KB\u001b[0m \u001b[31m48.5 MB/s\u001b[0m eta \u001b[36m0:00:00\u001b[0m\n",
      "\u001b[?25hCollecting aiosignal>=1.1.2\n",
      "  Downloading aiosignal-1.3.2-py2.py3-none-any.whl (7.6 kB)\n",
      "Collecting async-timeout<6.0,>=4.0\n",
      "  Downloading async_timeout-5.0.1-py3-none-any.whl (6.2 kB)\n",
      "Collecting propcache>=0.2.0\n",
      "  Downloading propcache-0.3.0-cp310-cp310-manylinux_2_17_x86_64.manylinux2014_x86_64.whl (205 kB)\n",
      "\u001b[2K     \u001b[90m━━━━━━━━━━━━━━━━━━━━━━━━━━━━━━━━━━━━━━\u001b[0m \u001b[32m205.4/205.4 KB\u001b[0m \u001b[31m37.6 MB/s\u001b[0m eta \u001b[36m0:00:00\u001b[0m\n",
      "\u001b[?25hCollecting multidict<7.0,>=4.5\n",
      "  Downloading multidict-6.1.0-cp310-cp310-manylinux_2_17_x86_64.manylinux2014_x86_64.whl (124 kB)\n",
      "\u001b[2K     \u001b[90m━━━━━━━━━━━━━━━━━━━━━━━━━━━━━━━━━━━━━━\u001b[0m \u001b[32m124.6/124.6 KB\u001b[0m \u001b[31m23.1 MB/s\u001b[0m eta \u001b[36m0:00:00\u001b[0m\n",
      "\u001b[?25hCollecting frozenlist>=1.1.1\n",
      "  Downloading frozenlist-1.5.0-cp310-cp310-manylinux_2_5_x86_64.manylinux1_x86_64.manylinux_2_17_x86_64.manylinux2014_x86_64.whl (241 kB)\n",
      "\u001b[2K     \u001b[90m━━━━━━━━━━━━━━━━━━━━━━━━━━━━━━━━━━━━━━\u001b[0m \u001b[32m241.9/241.9 KB\u001b[0m \u001b[31m36.9 MB/s\u001b[0m eta \u001b[36m0:00:00\u001b[0m\n",
      "\u001b[?25hRequirement already satisfied: attrs>=17.3.0 in /usr/lib/python3/dist-packages (from aiohttp->datasets) (21.2.0)\n",
      "Collecting aiohappyeyeballs>=2.3.0\n",
      "  Downloading aiohappyeyeballs-2.5.0-py3-none-any.whl (15 kB)\n",
      "Requirement already satisfied: idna<4,>=2.5 in /usr/lib/python3/dist-packages (from requests->transformers) (3.3)\n",
      "Requirement already satisfied: certifi>=2017.4.17 in /usr/lib/python3/dist-packages (from requests->transformers) (2020.6.20)\n",
      "Requirement already satisfied: urllib3<3,>=1.21.1 in /usr/lib/python3/dist-packages (from requests->transformers) (1.26.5)\n",
      "Collecting charset-normalizer<4,>=2\n",
      "  Downloading charset_normalizer-3.4.1-cp310-cp310-manylinux_2_17_x86_64.manylinux2014_x86_64.whl (146 kB)\n",
      "\u001b[2K     \u001b[90m━━━━━━━━━━━━━━━━━━━━━━━━━━━━━━━━━━━━━━\u001b[0m \u001b[32m146.1/146.1 KB\u001b[0m \u001b[31m28.6 MB/s\u001b[0m eta \u001b[36m0:00:00\u001b[0m\n",
      "\u001b[?25hCollecting pygments<3.0.0,>=2.13.0\n",
      "  Downloading pygments-2.19.1-py3-none-any.whl (1.2 MB)\n",
      "\u001b[2K     \u001b[90m━━━━━━━━━━━━━━━━━━━━━━━━━━━━━━━━━━━━━━━━\u001b[0m \u001b[32m1.2/1.2 MB\u001b[0m \u001b[31m87.1 MB/s\u001b[0m eta \u001b[36m0:00:00\u001b[0m\n",
      "\u001b[?25hCollecting markdown-it-py>=2.2.0\n",
      "  Downloading markdown_it_py-3.0.0-py3-none-any.whl (87 kB)\n",
      "\u001b[2K     \u001b[90m━━━━━━━━━━━━━━━━━━━━━━━━━━━━━━━━━━━━━━━━\u001b[0m \u001b[32m87.5/87.5 KB\u001b[0m \u001b[31m16.3 MB/s\u001b[0m eta \u001b[36m0:00:00\u001b[0m\n",
      "\u001b[?25hCollecting typing-extensions\n",
      "  Downloading typing_extensions-4.12.2-py3-none-any.whl (37 kB)\n",
      "Requirement already satisfied: platformdirs in /usr/lib/python3/dist-packages (from wandb>=0.13.5->transformer_lens) (2.5.1)\n",
      "Requirement already satisfied: click!=8.0.0,>=7.1 in /usr/lib/python3/dist-packages (from wandb>=0.13.5->transformer_lens) (8.0.3)\n",
      "Requirement already satisfied: setuptools in /usr/lib/python3/dist-packages (from wandb>=0.13.5->transformer_lens) (59.6.0)\n",
      "Collecting docker-pycreds>=0.4.0\n",
      "  Downloading docker_pycreds-0.4.0-py2.py3-none-any.whl (9.0 kB)\n",
      "Collecting setproctitle\n",
      "  Downloading setproctitle-1.3.5-cp310-cp310-manylinux_2_5_x86_64.manylinux1_x86_64.manylinux_2_17_x86_64.manylinux2014_x86_64.whl (30 kB)\n",
      "Collecting sentry-sdk>=2.0.0\n",
      "  Downloading sentry_sdk-2.22.0-py2.py3-none-any.whl (325 kB)\n",
      "\u001b[2K     \u001b[90m━━━━━━━━━━━━━━━━━━━━━━━━━━━━━━━━━━━━━━\u001b[0m \u001b[32m325.8/325.8 KB\u001b[0m \u001b[31m51.6 MB/s\u001b[0m eta \u001b[36m0:00:00\u001b[0m\n",
      "\u001b[?25hCollecting pydantic<3,>=2.6\n",
      "  Downloading pydantic-2.10.6-py3-none-any.whl (431 kB)\n",
      "\u001b[2K     \u001b[90m━━━━━━━━━━━━━━━━━━━━━━━━━━━━━━━━━━━━━━\u001b[0m \u001b[32m431.7/431.7 KB\u001b[0m \u001b[31m59.2 MB/s\u001b[0m eta \u001b[36m0:00:00\u001b[0m\n",
      "\u001b[?25hRequirement already satisfied: protobuf!=4.21.0,!=5.28.0,<6,>=3.19.0 in /usr/lib/python3/dist-packages (from wandb>=0.13.5->transformer_lens) (4.21.12)\n",
      "Collecting gitpython!=3.1.29,>=1.0.0\n",
      "  Downloading GitPython-3.1.44-py3-none-any.whl (207 kB)\n",
      "\u001b[2K     \u001b[90m━━━━━━━━━━━━━━━━━━━━━━━━━━━━━━━━━━━━━━\u001b[0m \u001b[32m207.6/207.6 KB\u001b[0m \u001b[31m37.9 MB/s\u001b[0m eta \u001b[36m0:00:00\u001b[0m\n",
      "\u001b[?25hRequirement already satisfied: six>=1.4.0 in /usr/lib/python3/dist-packages (from docker-pycreds>=0.4.0->wandb>=0.13.5->transformer_lens) (1.16.0)\n",
      "Collecting gitdb<5,>=4.0.1\n",
      "  Downloading gitdb-4.0.12-py3-none-any.whl (62 kB)\n",
      "\u001b[2K     \u001b[90m━━━━━━━━━━━━━━━━━━━━━━━━━━━━━━━━━━━━━━━━\u001b[0m \u001b[32m62.8/62.8 KB\u001b[0m \u001b[31m12.6 MB/s\u001b[0m eta \u001b[36m0:00:00\u001b[0m\n",
      "\u001b[?25hCollecting mdurl~=0.1\n",
      "  Downloading mdurl-0.1.2-py3-none-any.whl (10.0 kB)\n",
      "Collecting pydantic-core==2.27.2\n",
      "  Downloading pydantic_core-2.27.2-cp310-cp310-manylinux_2_17_x86_64.manylinux2014_x86_64.whl (2.0 MB)\n",
      "\u001b[2K     \u001b[90m━━━━━━━━━━━━━━━━━━━━━━━━━━━━━━━━━━━━━━━━\u001b[0m \u001b[32m2.0/2.0 MB\u001b[0m \u001b[31m99.4 MB/s\u001b[0m eta \u001b[36m0:00:00\u001b[0m\n",
      "\u001b[?25hCollecting annotated-types>=0.6.0\n",
      "  Downloading annotated_types-0.7.0-py3-none-any.whl (13 kB)\n",
      "Collecting urllib3<3,>=1.21.1\n",
      "  Downloading urllib3-2.3.0-py3-none-any.whl (128 kB)\n",
      "\u001b[2K     \u001b[90m━━━━━━━━━━━━━━━━━━━━━━━━━━━━━━━━━━━━━━\u001b[0m \u001b[32m128.4/128.4 KB\u001b[0m \u001b[31m24.5 MB/s\u001b[0m eta \u001b[36m0:00:00\u001b[0m\n",
      "\u001b[?25hCollecting smmap<6,>=3.0.1\n",
      "  Downloading smmap-5.0.2-py3-none-any.whl (24 kB)\n",
      "Building wheels for collected packages: transformers_stream_generator\n",
      "  Building wheel for transformers_stream_generator (setup.py) ... \u001b[?25ldone\n",
      "\u001b[?25h  Created wheel for transformers_stream_generator: filename=transformers_stream_generator-0.0.5-py3-none-any.whl size=12448 sha256=de290fa0cbd58440b6e0711ce82f2b07784ab1868657bee6f8f98aa8269ec328\n",
      "  Stored in directory: /home/ubuntu/.cache/pip/wheels/95/4a/90/140f7b67d125906f6a165f38aad212ecb4a695ad0d87582437\n",
      "Successfully built transformers_stream_generator\n",
      "Installing collected packages: sentencepiece, better-abc, xxhash, wadler-lindig, urllib3, typing-extensions, tqdm, smmap, setproctitle, safetensors, regex, pygments, pyarrow, propcache, numpy, mdurl, frozenlist, fancy-einsum, einops, docker-pycreds, dill, charset-normalizer, beartype, async-timeout, annotated-types, aiohappyeyeballs, typeguard, sentry-sdk, requests, pydantic-core, multiprocess, multidict, markdown-it-py, jaxtyping, gitdb, aiosignal, yarl, tiktoken, rich, pydantic, huggingface-hub, gitpython, wandb, tokenizers, aiohttp, accelerate, transformers, transformers_stream_generator, datasets, transformer_lens\n",
      "Successfully installed accelerate-1.4.0 aiohappyeyeballs-2.5.0 aiohttp-3.11.13 aiosignal-1.3.2 annotated-types-0.7.0 async-timeout-5.0.1 beartype-0.14.1 better-abc-0.0.3 charset-normalizer-3.4.1 datasets-3.3.2 dill-0.3.8 docker-pycreds-0.4.0 einops-0.8.1 fancy-einsum-0.0.3 frozenlist-1.5.0 gitdb-4.0.12 gitpython-3.1.44 huggingface-hub-0.29.2 jaxtyping-0.2.38 markdown-it-py-3.0.0 mdurl-0.1.2 multidict-6.1.0 multiprocess-0.70.16 numpy-2.2.3 propcache-0.3.0 pyarrow-19.0.1 pydantic-2.10.6 pydantic-core-2.27.2 pygments-2.19.1 regex-2024.11.6 requests-2.32.3 rich-13.9.4 safetensors-0.5.3 sentencepiece-0.2.0 sentry-sdk-2.22.0 setproctitle-1.3.5 smmap-5.0.2 tiktoken-0.9.0 tokenizers-0.21.0 tqdm-4.67.1 transformer_lens-2.15.0 transformers-4.49.0 transformers_stream_generator-0.0.5 typeguard-4.4.2 typing-extensions-4.12.2 urllib3-2.3.0 wadler-lindig-0.1.3 wandb-0.19.8 xxhash-3.5.0 yarl-1.18.3\n"
     ]
    }
   ],
   "source": [
    "# Setup and imports\n",
    "!pip install transformers transformers_stream_generator tiktoken transformer_lens einops jaxtyping colorama scikit-learn datasets"
   ]
  },
  {
   "cell_type": "code",
   "execution_count": 1,
   "id": "2619f9d3",
   "metadata": {},
   "outputs": [
    {
     "name": "stderr",
     "output_type": "stream",
     "text": [
      "/home/ubuntu/.local/lib/python3.10/site-packages/tqdm/auto.py:21: TqdmWarning: IProgress not found. Please update jupyter and ipywidgets. See https://ipywidgets.readthedocs.io/en/stable/user_install.html\n",
      "  from .autonotebook import tqdm as notebook_tqdm\n",
      "2025-03-06 20:40:53.879368: E external/local_xla/xla/stream_executor/cuda/cuda_fft.cc:477] Unable to register cuFFT factory: Attempting to register factory for plugin cuFFT when one has already been registered\n",
      "WARNING: All log messages before absl::InitializeLog() is called are written to STDERR\n",
      "E0000 00:00:1741293653.955937   13318 cuda_dnn.cc:8310] Unable to register cuDNN factory: Attempting to register factory for plugin cuDNN when one has already been registered\n",
      "E0000 00:00:1741293653.977928   13318 cuda_blas.cc:1418] Unable to register cuBLAS factory: Attempting to register factory for plugin cuBLAS when one has already been registered\n"
     ]
    },
    {
     "data": {
      "text/plain": [
       "<torch.autograd.grad_mode.set_grad_enabled at 0x76eb1900a020>"
      ]
     },
     "execution_count": 1,
     "metadata": {},
     "output_type": "execute_result"
    }
   ],
   "source": [
    "import os\n",
    "import torch\n",
    "import functools\n",
    "import einops\n",
    "import requests\n",
    "import pandas as pd\n",
    "import io\n",
    "import textwrap\n",
    "import gc\n",
    "import transformers\n",
    "import numpy as np\n",
    "import matplotlib.pyplot as plt\n",
    "\n",
    "from datasets import load_dataset\n",
    "from sklearn.model_selection import train_test_split\n",
    "from tqdm import tqdm\n",
    "from torch import Tensor\n",
    "from typing import List, Callable, Dict, Tuple, Optional, Union\n",
    "from transformer_lens import HookedTransformer, utils\n",
    "from transformer_lens.hook_points import HookPoint\n",
    "from transformers import AutoTokenizer, AutoModelForCausalLM\n",
    "from jaxtyping import Float, Int\n",
    "from colorama import Fore\n",
    "from huggingface_hub import snapshot_download\n",
    "\n",
    "# We turn off automatic differentiation to save GPU memory\n",
    "torch.set_grad_enabled(False)"
   ]
  },
  {
   "cell_type": "markdown",
   "id": "fc94de4a",
   "metadata": {},
   "source": [
    "## Load models\n",
    "\n",
    "We'll load both the original model and the reasoning-tuned model using HookedTransformer.\n",
    "If using a HuggingFace model, we can download it directly. If using a local model, make sure it's \n",
    "in the correct directory structure."
   ]
  },
  {
   "cell_type": "code",
   "execution_count": 2,
   "id": "25b7742d",
   "metadata": {},
   "outputs": [],
   "source": [
    "# Define model paths - adjust these based on your models\n",
    "MODEL_PATH_ORIGINAL = \"meta-llama/Llama-3.1-8B-Instruct\"  # Non-reasoning model\n",
    "MODEL_PATH_REASONING = \"deepseek-ai/DeepSeek-R1-Distill-Llama-8B\"  # Reasoning model"
   ]
  },
  {
   "cell_type": "markdown",
   "id": "47189609",
   "metadata": {},
   "source": [
    "### Load both models"
   ]
  },
  {
   "cell_type": "code",
   "execution_count": 3,
   "id": "ad3ec8f2",
   "metadata": {},
   "outputs": [],
   "source": [
    "# Login to HuggingFace\n",
    "from huggingface_hub import login\n",
    "\n",
    "# Replace with your HF token from https://huggingface.co/settings/tokens\n",
    "login(token=\"\") "
   ]
  },
  {
   "cell_type": "code",
   "execution_count": 4,
   "id": "a1e1519a",
   "metadata": {},
   "outputs": [
    {
     "name": "stderr",
     "output_type": "stream",
     "text": [
      "Downloading shards: 100%|██████████| 4/4 [01:14<00:00, 18.64s/it]\n",
      "Loading checkpoint shards: 100%|██████████| 4/4 [00:01<00:00,  2.82it/s]\n"
     ]
    },
    {
     "name": "stdout",
     "output_type": "stream",
     "text": [
      "Loaded pretrained model meta-llama/Llama-3.1-8B-Instruct into HookedTransformer\n",
      "Loaded non-reasoning model meta-llama/Llama-3.1-8B-Instruct\n"
     ]
    }
   ],
   "source": [
    "# Load the original (non-reasoning) model\n",
    "model_original = HookedTransformer.from_pretrained_no_processing(\n",
    "    MODEL_PATH_ORIGINAL,\n",
    "    dtype=torch.bfloat16,\n",
    "    default_padding_side='left'\n",
    ")\n",
    "model_original.tokenizer.padding_side = 'left'\n",
    "model_original.tokenizer.pad_token = model_original.tokenizer.eos_token\n",
    "\n",
    "print(f\"Loaded non-reasoning model {MODEL_PATH_ORIGINAL}\")"
   ]
  },
  {
   "cell_type": "markdown",
   "id": "8884113f",
   "metadata": {},
   "source": [
    "#### Optional: Download the reasoning model if needed\n",
    "This step can be skipped if you already have the models locally"
   ]
  },
  {
   "cell_type": "code",
   "execution_count": 5,
   "id": "2b8eacc2",
   "metadata": {},
   "outputs": [
    {
     "name": "stderr",
     "output_type": "stream",
     "text": [
      "/home/ubuntu/.local/lib/python3.10/site-packages/huggingface_hub/file_download.py:834: UserWarning: `local_dir_use_symlinks` parameter is deprecated and will be ignored. The process to download files to a local folder has been updated and do not rely on symlinks anymore. You only need to pass a destination folder as`local_dir`.\n",
      "For more details, check out https://huggingface.co/docs/huggingface_hub/main/en/guides/download#download-files-to-local-folder.\n",
      "  warnings.warn(\n",
      "Fetching 11 files:   0%|          | 0/11 [00:00<?, ?it/s]"
     ]
    },
    {
     "name": "stderr",
     "output_type": "stream",
     "text": [
      "Fetching 11 files: 100%|██████████| 11/11 [00:40<00:00,  3.71s/it]\n"
     ]
    }
   ],
   "source": [
    "# Uncomment this to download the reasoning model\n",
    "model_path = snapshot_download(\n",
    "    repo_id=MODEL_PATH_REASONING,\n",
    "    local_dir=MODEL_PATH_ORIGINAL,\n",
    "    local_dir_use_symlinks=False\n",
    ")"
   ]
  },
  {
   "cell_type": "code",
   "execution_count": 7,
   "id": "6f544f11",
   "metadata": {},
   "outputs": [
    {
     "name": "stderr",
     "output_type": "stream",
     "text": [
      "Loading checkpoint shards:   0%|          | 0/2 [00:00<?, ?it/s]"
     ]
    },
    {
     "name": "stderr",
     "output_type": "stream",
     "text": [
      "Loading checkpoint shards: 100%|██████████| 2/2 [00:00<00:00,  3.21it/s]\n"
     ]
    },
    {
     "name": "stdout",
     "output_type": "stream",
     "text": [
      "Loaded pretrained model meta-llama/Llama-3.1-8B-Instruct into HookedTransformer\n",
      "Loaded reasoning model deepseek-ai/DeepSeek-R1-Distill-Llama-8B\n"
     ]
    }
   ],
   "source": [
    "# Load the reasoning model\n",
    "model_reasoning = HookedTransformer.from_pretrained_no_processing(\n",
    "    MODEL_PATH_ORIGINAL,\n",
    "    local_files_only=True,  # Set to True if using local models\n",
    "    dtype=torch.bfloat16,\n",
    "    default_padding_side='left'\n",
    ")\n",
    "model_reasoning.tokenizer.padding_side = 'left'\n",
    "model_reasoning.tokenizer.pad_token = model_reasoning.tokenizer.eos_token\n",
    "\n",
    "print(f\"Loaded reasoning model {MODEL_PATH_REASONING}\")"
   ]
  },
  {
   "cell_type": "code",
   "execution_count": 8,
   "id": "a7a992e7",
   "metadata": {},
   "outputs": [
    {
     "data": {
      "text/plain": [
       "10"
      ]
     },
     "execution_count": 8,
     "metadata": {},
     "output_type": "execute_result"
    }
   ],
   "source": [
    "# clean cuda memory\n",
    "torch.cuda.empty_cache()\n",
    "gc.collect()\n"
   ]
  },
  {
   "cell_type": "code",
   "execution_count": 9,
   "id": "aaadfdf4",
   "metadata": {},
   "outputs": [
    {
     "name": "stdout",
     "output_type": "stream",
     "text": [
      "Original model response:\n"
     ]
    },
    {
     "name": "stderr",
     "output_type": "stream",
     "text": [
      "  0%|          | 0/50 [00:00<?, ?it/s]"
     ]
    },
    {
     "name": "stderr",
     "output_type": "stream",
     "text": [
      "100%|██████████| 50/50 [00:03<00:00, 15.39it/s]\n"
     ]
    },
    {
     "name": "stdout",
     "output_type": "stream",
     "text": [
      "What is 5*125? 5*125 = 625\n",
      "What is 5*1250? 5*1250 = 6250\n",
      "What is 5*12500? 5*12500 = 62500\n",
      "What is 5*125\n",
      "\n",
      "Reasoning model response:\n"
     ]
    },
    {
     "name": "stderr",
     "output_type": "stream",
     "text": [
      "100%|██████████| 50/50 [00:02<00:00, 18.99it/s]"
     ]
    },
    {
     "name": "stdout",
     "output_type": "stream",
     "text": [
      "What is 5*125? Let me think. Okay, 5 times 100 is 500, and 5 times 25 is 125. So if I add those together, 500 plus 125 is 625. Hmm, that seems right. Let me double\n"
     ]
    },
    {
     "name": "stderr",
     "output_type": "stream",
     "text": [
      "\n"
     ]
    }
   ],
   "source": [
    "# Test both models with a simple math problem\n",
    "test_prompt = \"What is 5*125?\"\n",
    "\n",
    "# Test original model\n",
    "print(\"Original model response:\")\n",
    "output_original = model_original.generate(\n",
    "    test_prompt, \n",
    "    temperature=0.0,\n",
    "    max_new_tokens=50  # Increase max tokens to generate longer response\n",
    ")\n",
    "print(output_original)\n",
    "\n",
    "print(\"\\nReasoning model response:\") \n",
    "output_reasoning = model_reasoning.generate(\n",
    "    test_prompt,\n",
    "    temperature=0.0,\n",
    "    max_new_tokens=50  # Increase max tokens to generate longer response\n",
    ")\n",
    "print(output_reasoning)\n"
   ]
  },
  {
   "cell_type": "markdown",
   "id": "6927e6cd",
   "metadata": {},
   "source": [
    "## Set up chat templates and data processing functions\n",
    "\n",
    "Different models may have different chat templates, so we adjust accordingly."
   ]
  },
  {
   "cell_type": "code",
   "execution_count": 36,
   "id": "a59abaad",
   "metadata": {
    "lines_to_next_cell": 1
   },
   "outputs": [],
   "source": [
    "# Define chat templates for both models\n",
    "# Adjust these templates based on your specific models\n",
    "CHAT_TEMPLATE = \"\"\"<|begin_of_text|><|start_header_id|>user<|end_header_id|>\n",
    "{instruction}<|eot_id|><|start_header_id|>assistant<|end_header_id|>\"\"\"  # Llama-3 template"
   ]
  },
  {
   "cell_type": "code",
   "execution_count": 11,
   "id": "0f43b675",
   "metadata": {
    "lines_to_next_cell": 1
   },
   "outputs": [],
   "source": [
    "# Define utility functions for processing data and collecting activations\n",
    "\n",
    "def tokenize_instructions(\n",
    "    tokenizer: AutoTokenizer,\n",
    "    instructions: List[str],\n",
    "    chat_template: str\n",
    ") -> Int[Tensor, 'batch_size seq_len']:\n",
    "    \"\"\"Tokenize instructions using the specified chat template.\"\"\"\n",
    "    prompts = [chat_template.format(instruction=instruction) for instruction in instructions]\n",
    "    return tokenizer(prompts, padding=True, truncation=False, return_tensors=\"pt\").input_ids\n",
    "\n",
    "def collect_activations(\n",
    "    model: HookedTransformer,\n",
    "    tokenized_inputs: Int[Tensor, 'batch_size seq_len'],\n",
    "    batch_size: int = 8\n",
    ") -> Dict[str, Tensor]:\n",
    "    \"\"\"Collect activations from a model for the given inputs.\"\"\"\n",
    "    activations = {}\n",
    "    \n",
    "    for i in tqdm(range(0, len(tokenized_inputs), batch_size)):\n",
    "        batch = tokenized_inputs[i:i+batch_size]\n",
    "        \n",
    "        # Run the model and cache activations\n",
    "        logits, cache = model.run_with_cache(\n",
    "            batch, \n",
    "            names_filter=lambda hook_name: 'resid' in hook_name, \n",
    "            device='cpu',  # Use CPU to avoid OOM errors; switch to 'cuda' if you have enough VRAM\n",
    "            reset_hooks_end=True\n",
    "        )\n",
    "        \n",
    "        # First batch, initialize the dictionary\n",
    "        if not activations:\n",
    "            activations = {key: [cache[key]] for key in cache}\n",
    "        else:\n",
    "            # Append to existing cache\n",
    "            for key in cache:\n",
    "                activations[key].append(cache[key])\n",
    "                \n",
    "        # Clear memory\n",
    "        del logits, cache\n",
    "        gc.collect()\n",
    "        torch.cuda.empty_cache()\n",
    "    \n",
    "    # Concatenate all batches\n",
    "    activations = {k: torch.cat(v) for k, v in activations.items()}\n",
    "    return activations"
   ]
  },
  {
   "cell_type": "markdown",
   "id": "5c452769",
   "metadata": {},
   "source": [
    "## Load and prepare GSM8K dataset\n",
    "\n",
    "We'll use the GSM8K dataset which contains math problems that require reasoning to solve.\n",
    "We'll append \"please provide your answer first, then your reasoning\" to each problem."
   ]
  },
  {
   "cell_type": "code",
   "execution_count": 12,
   "id": "edd98266",
   "metadata": {
    "lines_to_next_cell": 1
   },
   "outputs": [
    {
     "name": "stderr",
     "output_type": "stream",
     "text": [
      "Generating train split: 100%|██████████| 7473/7473 [00:00<00:00, 367077.74 examples/s]\n",
      "Generating test split: 100%|██████████| 1319/1319 [00:00<00:00, 292435.09 examples/s]"
     ]
    },
    {
     "name": "stdout",
     "output_type": "stream",
     "text": [
      "Loaded GSM8K dataset with 7473 training examples and 1319 test examples\n",
      "\n",
      "Sample problem:\n",
      "Natalia sold clips to 48 of her friends in April, and then she sold half as many clips in May. How many clips did Natalia sell altogether in April and May?\n",
      "\n",
      "Sample answer:\n",
      "Natalia sold 48/2 = <<48/2=24>>24 clips in May.\n",
      "Natalia sold 48+24 = <<48+24=72>>72 clips altogether in April and May.\n",
      "#### 72\n"
     ]
    },
    {
     "name": "stderr",
     "output_type": "stream",
     "text": [
      "\n"
     ]
    }
   ],
   "source": [
    "# Load GSM8K dataset\n",
    "gsm8k = load_dataset(\"gsm8k\", \"main\")\n",
    "print(f\"Loaded GSM8K dataset with {len(gsm8k['train'])} training examples and {len(gsm8k['test'])} test examples\")\n",
    "\n",
    "# Look at a sample problem\n",
    "print(\"\\nSample problem:\")\n",
    "print(gsm8k[\"train\"][0][\"question\"])\n",
    "print(\"\\nSample answer:\")\n",
    "print(gsm8k[\"train\"][0][\"answer\"])"
   ]
  },
  {
   "cell_type": "code",
   "execution_count": 13,
   "id": "a11cc56f",
   "metadata": {},
   "outputs": [
    {
     "name": "stdout",
     "output_type": "stream",
     "text": [
      "Prepared 100 training prompts and 20 test prompts\n"
     ]
    }
   ],
   "source": [
    "# Define functions to prepare prompts\n",
    "def prepare_prompts(problems: List[str]) -> List[str]:\n",
    "    \"\"\"Add the reasoning instruction to each problem.\"\"\"\n",
    "    return [f\"{problem}\\n\\nPlease provide your answer first, then your reasoning.\" for problem in problems]\n",
    "\n",
    "# Prepare prompts for training and testing\n",
    "train_problems = [item[\"question\"] for item in gsm8k[\"train\"]]\n",
    "test_problems = [item[\"question\"] for item in gsm8k[\"test\"]]\n",
    "\n",
    "# Limit the number of problems to reduce computation time\n",
    "N_PROBLEMS = 100  # Adjust based on available compute\n",
    "train_problems = train_problems[:N_PROBLEMS]\n",
    "test_problems = test_problems[:min(20, len(test_problems))]  # Smaller test set\n",
    "\n",
    "train_prompts = prepare_prompts(train_problems)\n",
    "test_prompts= prepare_prompts(test_problems)\n",
    "\n",
    "\n",
    "print(f\"Prepared {len(train_prompts)} training prompts and {len(test_prompts)} test prompts\")"
   ]
  },
  {
   "cell_type": "markdown",
   "id": "418b16ce",
   "metadata": {},
   "source": [
    "## Collect activations from both models\n",
    "\n",
    "Now we'll run the same prompts through both models and collect their activations.\n",
    "This is the key step where we gather the data needed to compute the reasoning direction."
   ]
  },
  {
   "cell_type": "code",
   "execution_count": 14,
   "id": "1ea3899a",
   "metadata": {},
   "outputs": [
    {
     "name": "stdout",
     "output_type": "stream",
     "text": [
      "Tokenized prompts shape (original): torch.Size([100, 134])\n",
      "Tokenized prompts shape (reasoning): torch.Size([100, 140])\n"
     ]
    }
   ],
   "source": [
    "# Tokenize the math problems for both models\n",
    "tokenized_prompts_original = tokenize_instructions(\n",
    "    model_original.tokenizer, \n",
    "    train_prompts, \n",
    "    CHAT_TEMPLATE\n",
    ")\n",
    "\n",
    "tokenized_prompts_reasoning = tokenize_instructions(\n",
    "    model_reasoning.tokenizer, \n",
    "    train_prompts, \n",
    "    CHAT_TEMPLATE\n",
    ")\n",
    "\n",
    "print(f\"Tokenized prompts shape (original): {tokenized_prompts_original.shape}\")\n",
    "print(f\"Tokenized prompts shape (reasoning): {tokenized_prompts_reasoning.shape}\")"
   ]
  },
  {
   "cell_type": "code",
   "execution_count": 15,
   "id": "ffacac2f",
   "metadata": {},
   "outputs": [],
   "source": [
    "# Create a list of simple toy math problems\n",
    "# These will be used for testing instead of the GSM8K dataset\n",
    "toy_math_problems = [\n",
    "    \"What is 2+2?\",\n",
    "    \"What is 5*7?\",\n",
    "    \"If x=3 and y=4, what is x+y?\",\n",
    "    \"What is the square root of 16?\",\n",
    "    \"What is 10 divided by 2?\",\n",
    "    \"If I have 3 apples and get 5 more, how many do I have?\",\n",
    "    \"What is 9 squared?\",\n",
    "    \"What is 15-7?\",\n",
    "    \"What is the product of 4 and 6?\",\n",
    "    \"If a rectangle has length 5 and width 3, what is its area?\"\n",
    "]\n",
    "\n",
    "toy_prompts = prepare_prompts(toy_math_problems)\n"
   ]
  },
  {
   "cell_type": "markdown",
   "id": "f78d15ac",
   "metadata": {},
   "source": [
    "### Collect activations\n",
    "We'll run both models on the same inputs and collect their activations."
   ]
  },
  {
   "cell_type": "code",
   "execution_count": 16,
   "id": "3534dd71",
   "metadata": {
    "lines_to_next_cell": 1
   },
   "outputs": [
    {
     "name": "stdout",
     "output_type": "stream",
     "text": [
      "Collecting activations from the original model...\n"
     ]
    },
    {
     "name": "stderr",
     "output_type": "stream",
     "text": [
      "100%|██████████| 13/13 [00:12<00:00,  1.01it/s]\n"
     ]
    },
    {
     "name": "stdout",
     "output_type": "stream",
     "text": [
      "Done collecting activations from the original model\n",
      "Collecting activations from the reasoning model...\n"
     ]
    },
    {
     "name": "stderr",
     "output_type": "stream",
     "text": [
      "100%|██████████| 13/13 [00:07<00:00,  1.68it/s]\n"
     ]
    },
    {
     "name": "stdout",
     "output_type": "stream",
     "text": [
      "Done collecting activations from the reasoning model\n"
     ]
    }
   ],
   "source": [
    "print(\"Collecting activations from the original model...\")\n",
    "original_activations = collect_activations(model_original, tokenized_prompts_original)\n",
    "print(\"Done collecting activations from the original model\")\n",
    "\n",
    "print(\"Collecting activations from the reasoning model...\")\n",
    "reasoning_activations = collect_activations(model_reasoning, tokenized_prompts_reasoning)\n",
    "print(\"Done collecting activations from the reasoning model\")\n",
    "\n",
    "# Optional: Save activations to disk to avoid recomputing\n",
    "torch.save(original_activations, 'original_activations.pth')\n",
    "torch.save(reasoning_activations, 'reasoning_activations.pth')"
   ]
  },
  {
   "cell_type": "markdown",
   "id": "9423de4f",
   "metadata": {},
   "source": [
    "## Calculate the candidate directions\n",
    "\n",
    "Now we'll calculate the candiate directions by taking the difference between\n",
    "activations from the reasoning model and the original model."
   ]
  },
  {
   "cell_type": "code",
   "execution_count": 17,
   "id": "92f7cf13",
   "metadata": {},
   "outputs": [
    {
     "name": "stderr",
     "output_type": "stream",
     "text": [
      "100%|██████████| 31/31 [00:00<00:00, 374.59it/s]"
     ]
    },
    {
     "name": "stdout",
     "output_type": "stream",
     "text": [
      "Reasoning directions calculated and saved\n"
     ]
    },
    {
     "name": "stderr",
     "output_type": "stream",
     "text": [
      "\n"
     ]
    }
   ],
   "source": [
    "def get_act_idx(cache_dict, act_name, layer):\n",
    "    \"\"\"Helper function to get activations from a specific layer.\"\"\"\n",
    "    key = (act_name, layer,)\n",
    "    return cache_dict[utils.get_act_name(*key)]\n",
    "\n",
    "# The activation layers to analyze\n",
    "activation_layers = ['resid_pre', 'resid_mid', 'resid_post']\n",
    "\n",
    "# Calculate the directions\n",
    "# This is of {resid_pre: [layer_1_dir, layer_2_dir, layer_3_dir]...}\n",
    "difference_directions = {k: [] for k in activation_layers}\n",
    "original_directions = {k: [] for k in activation_layers}\n",
    "reasoning_directions = {k: [] for k in activation_layers}\n",
    "\n",
    "for layer_num in tqdm(range(1, model_original.cfg.n_layers)):\n",
    "    pos = -1  # Focus on the last token position\n",
    "    \n",
    "    for layer in activation_layers:\n",
    "        # Get mean activations for each model\n",
    "        original_mean_act = get_act_idx(original_activations, layer, layer_num)[:, pos, :].mean(dim=0)\n",
    "        reasoning_mean_act = get_act_idx(reasoning_activations, layer, layer_num)[:, pos, :].mean(dim=0)\n",
    "        \n",
    "        # Calculate the difference and normalize to get the direction\n",
    "        difference_dir = reasoning_mean_act - original_mean_act\n",
    "        difference_dir = difference_dir / difference_dir.norm()\n",
    "\n",
    "        reasoning_dir = reasoning_mean_act / reasoning_mean_act.norm()\n",
    "        original_dir = original_mean_act / original_mean_act.norm()\n",
    "        \n",
    "        difference_directions[layer].append(difference_dir)\n",
    "        reasoning_directions[layer].append(reasoning_dir)\n",
    "        original_directions[layer].append(original_dir)\n",
    "        \n",
    "# Save the reasoning directions\n",
    "# torch.save(reasoning_directions, 'reasoning_dirs.pth')\n",
    "print(\"Reasoning directions calculated and saved\")"
   ]
  },
  {
   "cell_type": "markdown",
   "id": "34968529",
   "metadata": {},
   "source": [
    "## Score and rank reasoning directions\n",
    "\n",
    "Now we'll sort the reasoning directions by their magnitude to identify\n",
    "which layers might have the strongest reasoning signal."
   ]
  },
  {
   "cell_type": "code",
   "execution_count": 18,
   "id": "4ad5304d",
   "metadata": {
    "lines_to_next_cell": 1
   },
   "outputs": [],
   "source": [
    "# Get all calculated potential reasoning dirs, sort them in descending order\n",
    "# based on their mean() magnitude\n",
    "activation_layers = ['resid_pre']  # We can start with just this layer as it's often sufficient\n",
    "\n",
    "directions = {\n",
    "    'difference': difference_directions, \n",
    "    'reasoning': reasoning_directions, \n",
    "    'original': original_directions\n",
    "}\n",
    "\n",
    "activations_scored = {}\n",
    "\n",
    "for direction_type, direction in directions.items():\n",
    "    # Flatten and score all directions\n",
    "    activations_scored[direction_type] = sorted(\n",
    "        [direction[layer][l-1] for l in range(1, model_original.cfg.n_layers) for layer in activation_layers], \n",
    "        key=lambda x: abs(x.mean()), \n",
    "        reverse=True\n",
    "    )\n"
   ]
  },
  {
   "cell_type": "markdown",
   "id": "decfa70d",
   "metadata": {},
   "source": [
    "## Test the reasoning direction\n",
    "\n",
    "Now we'll define a hook to add the reasoning direction to the model's activations\n",
    "during inference and test if it enhances the model's reasoning capabilities."
   ]
  },
  {
   "cell_type": "code",
   "execution_count": 19,
   "id": "f0e0270f",
   "metadata": {
    "lines_to_next_cell": 1
   },
   "outputs": [],
   "source": [
    "def reasoning_enhancement_hook(\n",
    "    activation: Float[Tensor, \"... d_act\"],\n",
    "    hook: HookPoint,\n",
    "    direction: Float[Tensor, \"d_act\"],\n",
    "    strength: float = 1.0\n",
    "):\n",
    "    \"\"\"Hook to add the reasoning direction to activations.\"\"\"\n",
    "    # Ensure direction is on same device as activation\n",
    "    if activation.device != direction.device:\n",
    "        direction = direction.to(activation.device)\n",
    "    \n",
    "    # Project the activation onto the reasoning direction and add it back (unlike Arditi et al this does not seem to work)\n",
    "    # proj = einops.einsum(activation, direction.view(-1, 1), '... d_act, d_act single -> ... single') * direction\n",
    "    # So we simply add the direction to the activation\n",
    "    return activation + (strength * direction.unsqueeze(0).unsqueeze(0))\n",
    "\n",
    "\n",
    "\n",
    "\n",
    "def generate_with_hooks(\n",
    "    model: HookedTransformer,\n",
    "    toks: Int[Tensor, 'batch_size seq_len'],\n",
    "    max_tokens_generated: int = 100,\n",
    "    fwd_hooks = [],\n",
    "    temperature: float = 0.0\n",
    ") -> List[str]:\n",
    "    \"\"\"Generate text with specified hooks applied.\"\"\"\n",
    "    device = toks.device  # Get the device of input tokens\n",
    "    \n",
    "    all_toks = torch.zeros(\n",
    "        (toks.shape[0], toks.shape[1] + max_tokens_generated), \n",
    "        dtype=torch.long, \n",
    "        device=device  # Ensure this tensor is on the same device\n",
    "    )\n",
    "    all_toks[:, :toks.shape[1]] = toks\n",
    "    \n",
    "    # Keep track of which sequences have finished generating\n",
    "    finished = torch.zeros(toks.shape[0], dtype=torch.bool, device=device)  # Match device\n",
    "    eos_token_id = model.tokenizer.eos_token_id\n",
    "    \n",
    "    for i in range(max_tokens_generated):\n",
    "        with model.hooks(fwd_hooks=fwd_hooks):\n",
    "            logits = model(all_toks[:, :-max_tokens_generated + i])\n",
    "            if temperature == 0.0:\n",
    "                next_tokens = logits[:, -1, :].argmax(dim=-1)  # greedy sampling\n",
    "            else:\n",
    "                probs = torch.nn.functional.softmax(logits[:, -1, :] / temperature, dim=-1)\n",
    "                next_tokens = torch.multinomial(probs, num_samples=1).squeeze(-1)\n",
    "            \n",
    "            # Make sure next_tokens is on the same device\n",
    "            next_tokens = next_tokens.to(device)\n",
    "            \n",
    "            # Only update unfinished sequences\n",
    "            all_toks[:, -max_tokens_generated + i] = torch.where(\n",
    "                finished, \n",
    "                all_toks[:, -max_tokens_generated + i], \n",
    "                next_tokens\n",
    "            )\n",
    "            \n",
    "            # Mark sequences as finished if they generated an EOS token\n",
    "            finished = finished | (next_tokens == eos_token_id)\n",
    "            \n",
    "            # Stop if all sequences are finished\n",
    "            if finished.all():\n",
    "                break\n",
    "    \n",
    "    # For each sequence, only return the generated tokens up to any EOS token\n",
    "    results = []\n",
    "    for b in range(all_toks.shape[0]):\n",
    "        # Get generated tokens for this batch item\n",
    "        gen_toks = all_toks[b, toks.shape[1]:]\n",
    "        \n",
    "        # Find the first EOS token position\n",
    "        eos_pos = (gen_toks == eos_token_id).nonzero()\n",
    "        \n",
    "        # If EOS found, truncate at that position\n",
    "        if len(eos_pos) > 0:\n",
    "            gen_toks = gen_toks[:eos_pos[0].item()]\n",
    "        \n",
    "        # Decode to text\n",
    "        results.append(model.tokenizer.decode(gen_toks, skip_special_tokens=True))\n",
    "    \n",
    "    return results"
   ]
  },
  {
   "cell_type": "markdown",
   "id": "59bd0462",
   "metadata": {},
   "source": [
    "<!-- ## Evaluate the reasoning enhancement\n",
    "\n",
    "Now we'll test our reasoning direction on a few example problems and compare\n",
    "the baseline model outputs with the reasoning-enhanced outputs. -->"
   ]
  },
  {
   "cell_type": "code",
   "execution_count": 48,
   "id": "4a8ba985",
   "metadata": {},
   "outputs": [
    {
     "name": "stdout",
     "output_type": "stream",
     "text": [
      "Selected top reasoning direction for testing\n"
     ]
    }
   ],
   "source": [
    "# Select the top reasoning direction to test\n",
    "top_reasoning_dir = activations_scored['difference'][30]\n",
    "print(\"Selected top reasoning direction for testing\")\n",
    "\n",
    "# Create hooks to inject reasoning direction\n",
    "strength = -0.1 # Adjust this value to control the magnitude of the effect\n",
    "hook_fn = functools.partial(reasoning_enhancement_hook, direction=top_reasoning_dir, strength=strength)\n",
    "\n",
    "# Create hooks for all layers (or you can target specific layers)\n",
    "fwd_hooks = [\n",
    "    (utils.get_act_name(act_name, l), hook_fn) \n",
    "    for l in range(model_original.cfg.n_layers) \n",
    "    for act_name in ['resid_pre', 'resid_mid', 'resid_post']\n",
    "]"
   ]
  },
  {
   "cell_type": "code",
   "execution_count": 49,
   "id": "763e0fe9",
   "metadata": {
    "lines_to_next_cell": 1
   },
   "outputs": [
    {
     "name": "stdout",
     "output_type": "stream",
     "text": [
      "Testing on 5 examples from the test set\n",
      "\n",
      "\n",
      "--- EXAMPLE 1 ---\n",
      "PROBLEM:\n",
      "What is 2+2?\n",
      "\n",
      "INTERVENTION RESPONSE:\n",
      "\n",
      "\n",
      "Okay, so I need to figure out how to solve the equation 2 + 2. Hmm, that seems pretty straightforward, but I want to make sure I do it correctly. Let me think step by step. First, I know that addition is a basic math operation, right? So, adding 2 plus 2 should be simple. But wait, maybe I should write it down to visualize it. Let me write down the numbers. 2 plus 2. So, 2 plus 2 equals... Hmm, 2 plus 2. That should be 4, right? Yeah, that makes sense. But wait, maybe I should double it again to double. Sometimes I get confused with these simple problems, so I need to make sure I'm not rushing too quickly. Let me count it step by step. So, starting with the first number, which is 2, and then adding the second number, which is also 2. So, 2 plus 2. That's 4. Yeah, that seems correct. I think I've got it. But just to double-check, maybe I can add it again. 2 plus 2 is 4. Yeah, that's correct.\n",
      "\n",
      "\n",
      "--- EXAMPLE 2 ---\n",
      "PROBLEM:\n",
      "What is 5*7?\n"
     ]
    },
    {
     "ename": "KeyboardInterrupt",
     "evalue": "",
     "output_type": "error",
     "traceback": [
      "\u001b[0;31m---------------------------------------------------------------------------\u001b[0m",
      "\u001b[0;31mKeyboardInterrupt\u001b[0m                         Traceback (most recent call last)",
      "\u001b[0;32m/tmp/ipykernel_13318/3664800616.py\u001b[0m in \u001b[0;36m<module>\u001b[0;34m\u001b[0m\n\u001b[1;32m     25\u001b[0m \u001b[0;34m\u001b[0m\u001b[0m\n\u001b[1;32m     26\u001b[0m     \u001b[0;31m# Generate reasoning-enhanced response\u001b[0m\u001b[0;34m\u001b[0m\u001b[0;34m\u001b[0m\u001b[0m\n\u001b[0;32m---> 27\u001b[0;31m     enhanced_response = generate_with_hooks(model_reasoning,\n\u001b[0m\u001b[1;32m     28\u001b[0m                                             \u001b[0mtest_tokens\u001b[0m\u001b[0;34m,\u001b[0m\u001b[0;34m\u001b[0m\u001b[0;34m\u001b[0m\u001b[0m\n\u001b[1;32m     29\u001b[0m                                             \u001b[0mfwd_hooks\u001b[0m\u001b[0;34m=\u001b[0m\u001b[0mfwd_hooks\u001b[0m\u001b[0;34m,\u001b[0m\u001b[0;34m\u001b[0m\u001b[0;34m\u001b[0m\u001b[0m\n",
      "\u001b[0;32m/tmp/ipykernel_13318/182772856.py\u001b[0m in \u001b[0;36mgenerate_with_hooks\u001b[0;34m(model, toks, max_tokens_generated, fwd_hooks, temperature)\u001b[0m\n\u001b[1;32m     41\u001b[0m     \u001b[0;32mfor\u001b[0m \u001b[0mi\u001b[0m \u001b[0;32min\u001b[0m \u001b[0mrange\u001b[0m\u001b[0;34m(\u001b[0m\u001b[0mmax_tokens_generated\u001b[0m\u001b[0;34m)\u001b[0m\u001b[0;34m:\u001b[0m\u001b[0;34m\u001b[0m\u001b[0;34m\u001b[0m\u001b[0m\n\u001b[1;32m     42\u001b[0m         \u001b[0;32mwith\u001b[0m \u001b[0mmodel\u001b[0m\u001b[0;34m.\u001b[0m\u001b[0mhooks\u001b[0m\u001b[0;34m(\u001b[0m\u001b[0mfwd_hooks\u001b[0m\u001b[0;34m=\u001b[0m\u001b[0mfwd_hooks\u001b[0m\u001b[0;34m)\u001b[0m\u001b[0;34m:\u001b[0m\u001b[0;34m\u001b[0m\u001b[0;34m\u001b[0m\u001b[0m\n\u001b[0;32m---> 43\u001b[0;31m             \u001b[0mlogits\u001b[0m \u001b[0;34m=\u001b[0m \u001b[0mmodel\u001b[0m\u001b[0;34m(\u001b[0m\u001b[0mall_toks\u001b[0m\u001b[0;34m[\u001b[0m\u001b[0;34m:\u001b[0m\u001b[0;34m,\u001b[0m \u001b[0;34m:\u001b[0m\u001b[0;34m-\u001b[0m\u001b[0mmax_tokens_generated\u001b[0m \u001b[0;34m+\u001b[0m \u001b[0mi\u001b[0m\u001b[0;34m]\u001b[0m\u001b[0;34m)\u001b[0m\u001b[0;34m\u001b[0m\u001b[0;34m\u001b[0m\u001b[0m\n\u001b[0m\u001b[1;32m     44\u001b[0m             \u001b[0;32mif\u001b[0m \u001b[0mtemperature\u001b[0m \u001b[0;34m==\u001b[0m \u001b[0;36m0.0\u001b[0m\u001b[0;34m:\u001b[0m\u001b[0;34m\u001b[0m\u001b[0;34m\u001b[0m\u001b[0m\n\u001b[1;32m     45\u001b[0m                 \u001b[0mnext_tokens\u001b[0m \u001b[0;34m=\u001b[0m \u001b[0mlogits\u001b[0m\u001b[0;34m[\u001b[0m\u001b[0;34m:\u001b[0m\u001b[0;34m,\u001b[0m \u001b[0;34m-\u001b[0m\u001b[0;36m1\u001b[0m\u001b[0;34m,\u001b[0m \u001b[0;34m:\u001b[0m\u001b[0;34m]\u001b[0m\u001b[0;34m.\u001b[0m\u001b[0margmax\u001b[0m\u001b[0;34m(\u001b[0m\u001b[0mdim\u001b[0m\u001b[0;34m=\u001b[0m\u001b[0;34m-\u001b[0m\u001b[0;36m1\u001b[0m\u001b[0;34m)\u001b[0m  \u001b[0;31m# greedy sampling\u001b[0m\u001b[0;34m\u001b[0m\u001b[0;34m\u001b[0m\u001b[0m\n",
      "\u001b[0;32m/usr/lib/python3/dist-packages/torch/nn/modules/module.py\u001b[0m in \u001b[0;36m_wrapped_call_impl\u001b[0;34m(self, *args, **kwargs)\u001b[0m\n\u001b[1;32m   1734\u001b[0m             \u001b[0;32mreturn\u001b[0m \u001b[0mself\u001b[0m\u001b[0;34m.\u001b[0m\u001b[0m_compiled_call_impl\u001b[0m\u001b[0;34m(\u001b[0m\u001b[0;34m*\u001b[0m\u001b[0margs\u001b[0m\u001b[0;34m,\u001b[0m \u001b[0;34m**\u001b[0m\u001b[0mkwargs\u001b[0m\u001b[0;34m)\u001b[0m  \u001b[0;31m# type: ignore[misc]\u001b[0m\u001b[0;34m\u001b[0m\u001b[0;34m\u001b[0m\u001b[0m\n\u001b[1;32m   1735\u001b[0m         \u001b[0;32melse\u001b[0m\u001b[0;34m:\u001b[0m\u001b[0;34m\u001b[0m\u001b[0;34m\u001b[0m\u001b[0m\n\u001b[0;32m-> 1736\u001b[0;31m             \u001b[0;32mreturn\u001b[0m \u001b[0mself\u001b[0m\u001b[0;34m.\u001b[0m\u001b[0m_call_impl\u001b[0m\u001b[0;34m(\u001b[0m\u001b[0;34m*\u001b[0m\u001b[0margs\u001b[0m\u001b[0;34m,\u001b[0m \u001b[0;34m**\u001b[0m\u001b[0mkwargs\u001b[0m\u001b[0;34m)\u001b[0m\u001b[0;34m\u001b[0m\u001b[0;34m\u001b[0m\u001b[0m\n\u001b[0m\u001b[1;32m   1737\u001b[0m \u001b[0;34m\u001b[0m\u001b[0m\n\u001b[1;32m   1738\u001b[0m     \u001b[0;31m# torchrec tests the code consistency with the following code\u001b[0m\u001b[0;34m\u001b[0m\u001b[0;34m\u001b[0m\u001b[0m\n",
      "\u001b[0;32m/usr/lib/python3/dist-packages/torch/nn/modules/module.py\u001b[0m in \u001b[0;36m_call_impl\u001b[0;34m(self, *args, **kwargs)\u001b[0m\n\u001b[1;32m   1745\u001b[0m                 \u001b[0;32mor\u001b[0m \u001b[0m_global_backward_pre_hooks\u001b[0m \u001b[0;32mor\u001b[0m \u001b[0m_global_backward_hooks\u001b[0m\u001b[0;34m\u001b[0m\u001b[0;34m\u001b[0m\u001b[0m\n\u001b[1;32m   1746\u001b[0m                 or _global_forward_hooks or _global_forward_pre_hooks):\n\u001b[0;32m-> 1747\u001b[0;31m             \u001b[0;32mreturn\u001b[0m \u001b[0mforward_call\u001b[0m\u001b[0;34m(\u001b[0m\u001b[0;34m*\u001b[0m\u001b[0margs\u001b[0m\u001b[0;34m,\u001b[0m \u001b[0;34m**\u001b[0m\u001b[0mkwargs\u001b[0m\u001b[0;34m)\u001b[0m\u001b[0;34m\u001b[0m\u001b[0;34m\u001b[0m\u001b[0m\n\u001b[0m\u001b[1;32m   1748\u001b[0m \u001b[0;34m\u001b[0m\u001b[0m\n\u001b[1;32m   1749\u001b[0m         \u001b[0mresult\u001b[0m \u001b[0;34m=\u001b[0m \u001b[0;32mNone\u001b[0m\u001b[0;34m\u001b[0m\u001b[0;34m\u001b[0m\u001b[0m\n",
      "\u001b[0;32m~/.local/lib/python3.10/site-packages/transformer_lens/HookedTransformer.py\u001b[0m in \u001b[0;36mforward\u001b[0;34m(self, input, return_type, loss_per_token, prepend_bos, padding_side, start_at_layer, tokens, shortformer_pos_embed, attention_mask, stop_at_layer, past_kv_cache)\u001b[0m\n\u001b[1;32m    610\u001b[0m                     )\n\u001b[1;32m    611\u001b[0m \u001b[0;34m\u001b[0m\u001b[0m\n\u001b[0;32m--> 612\u001b[0;31m                 residual = block(\n\u001b[0m\u001b[1;32m    613\u001b[0m                     \u001b[0mresidual\u001b[0m\u001b[0;34m,\u001b[0m\u001b[0;34m\u001b[0m\u001b[0;34m\u001b[0m\u001b[0m\n\u001b[1;32m    614\u001b[0m                     \u001b[0;31m# Cache contains a list of HookedTransformerKeyValueCache objects, one for each\u001b[0m\u001b[0;34m\u001b[0m\u001b[0;34m\u001b[0m\u001b[0m\n",
      "\u001b[0;32m/usr/lib/python3/dist-packages/torch/nn/modules/module.py\u001b[0m in \u001b[0;36m_wrapped_call_impl\u001b[0;34m(self, *args, **kwargs)\u001b[0m\n\u001b[1;32m   1734\u001b[0m             \u001b[0;32mreturn\u001b[0m \u001b[0mself\u001b[0m\u001b[0;34m.\u001b[0m\u001b[0m_compiled_call_impl\u001b[0m\u001b[0;34m(\u001b[0m\u001b[0;34m*\u001b[0m\u001b[0margs\u001b[0m\u001b[0;34m,\u001b[0m \u001b[0;34m**\u001b[0m\u001b[0mkwargs\u001b[0m\u001b[0;34m)\u001b[0m  \u001b[0;31m# type: ignore[misc]\u001b[0m\u001b[0;34m\u001b[0m\u001b[0;34m\u001b[0m\u001b[0m\n\u001b[1;32m   1735\u001b[0m         \u001b[0;32melse\u001b[0m\u001b[0;34m:\u001b[0m\u001b[0;34m\u001b[0m\u001b[0;34m\u001b[0m\u001b[0m\n\u001b[0;32m-> 1736\u001b[0;31m             \u001b[0;32mreturn\u001b[0m \u001b[0mself\u001b[0m\u001b[0;34m.\u001b[0m\u001b[0m_call_impl\u001b[0m\u001b[0;34m(\u001b[0m\u001b[0;34m*\u001b[0m\u001b[0margs\u001b[0m\u001b[0;34m,\u001b[0m \u001b[0;34m**\u001b[0m\u001b[0mkwargs\u001b[0m\u001b[0;34m)\u001b[0m\u001b[0;34m\u001b[0m\u001b[0;34m\u001b[0m\u001b[0m\n\u001b[0m\u001b[1;32m   1737\u001b[0m \u001b[0;34m\u001b[0m\u001b[0m\n\u001b[1;32m   1738\u001b[0m     \u001b[0;31m# torchrec tests the code consistency with the following code\u001b[0m\u001b[0;34m\u001b[0m\u001b[0;34m\u001b[0m\u001b[0m\n",
      "\u001b[0;32m/usr/lib/python3/dist-packages/torch/nn/modules/module.py\u001b[0m in \u001b[0;36m_call_impl\u001b[0;34m(self, *args, **kwargs)\u001b[0m\n\u001b[1;32m   1745\u001b[0m                 \u001b[0;32mor\u001b[0m \u001b[0m_global_backward_pre_hooks\u001b[0m \u001b[0;32mor\u001b[0m \u001b[0m_global_backward_hooks\u001b[0m\u001b[0;34m\u001b[0m\u001b[0;34m\u001b[0m\u001b[0m\n\u001b[1;32m   1746\u001b[0m                 or _global_forward_hooks or _global_forward_pre_hooks):\n\u001b[0;32m-> 1747\u001b[0;31m             \u001b[0;32mreturn\u001b[0m \u001b[0mforward_call\u001b[0m\u001b[0;34m(\u001b[0m\u001b[0;34m*\u001b[0m\u001b[0margs\u001b[0m\u001b[0;34m,\u001b[0m \u001b[0;34m**\u001b[0m\u001b[0mkwargs\u001b[0m\u001b[0;34m)\u001b[0m\u001b[0;34m\u001b[0m\u001b[0;34m\u001b[0m\u001b[0m\n\u001b[0m\u001b[1;32m   1748\u001b[0m \u001b[0;34m\u001b[0m\u001b[0m\n\u001b[1;32m   1749\u001b[0m         \u001b[0mresult\u001b[0m \u001b[0;34m=\u001b[0m \u001b[0;32mNone\u001b[0m\u001b[0;34m\u001b[0m\u001b[0;34m\u001b[0m\u001b[0m\n",
      "\u001b[0;32m~/.local/lib/python3.10/site-packages/transformer_lens/components/transformer_block.py\u001b[0m in \u001b[0;36mforward\u001b[0;34m(self, resid_pre, shortformer_pos_embed, past_kv_cache_entry, attention_mask)\u001b[0m\n\u001b[1;32m    184\u001b[0m             )\n\u001b[1;32m    185\u001b[0m             \u001b[0mnormalized_resid_mid\u001b[0m \u001b[0;34m=\u001b[0m \u001b[0mself\u001b[0m\u001b[0;34m.\u001b[0m\u001b[0mln2\u001b[0m\u001b[0;34m(\u001b[0m\u001b[0mmlp_in\u001b[0m\u001b[0;34m)\u001b[0m\u001b[0;34m\u001b[0m\u001b[0;34m\u001b[0m\u001b[0m\n\u001b[0;32m--> 186\u001b[0;31m             \u001b[0mmlp_out\u001b[0m \u001b[0;34m=\u001b[0m \u001b[0mself\u001b[0m\u001b[0;34m.\u001b[0m\u001b[0mapply_mlp\u001b[0m\u001b[0;34m(\u001b[0m\u001b[0mnormalized_resid_mid\u001b[0m\u001b[0;34m)\u001b[0m\u001b[0;34m\u001b[0m\u001b[0;34m\u001b[0m\u001b[0m\n\u001b[0m\u001b[1;32m    187\u001b[0m             \u001b[0mresid_post\u001b[0m \u001b[0;34m=\u001b[0m \u001b[0mself\u001b[0m\u001b[0;34m.\u001b[0m\u001b[0mhook_resid_post\u001b[0m\u001b[0;34m(\u001b[0m\u001b[0mresid_mid\u001b[0m \u001b[0;34m+\u001b[0m \u001b[0mmlp_out\u001b[0m\u001b[0;34m)\u001b[0m  \u001b[0;31m# [batch, pos, d_model]\u001b[0m\u001b[0;34m\u001b[0m\u001b[0;34m\u001b[0m\u001b[0m\n\u001b[1;32m    188\u001b[0m         \u001b[0;32melif\u001b[0m \u001b[0mself\u001b[0m\u001b[0;34m.\u001b[0m\u001b[0mcfg\u001b[0m\u001b[0;34m.\u001b[0m\u001b[0mparallel_attn_mlp\u001b[0m\u001b[0;34m:\u001b[0m\u001b[0;34m\u001b[0m\u001b[0;34m\u001b[0m\u001b[0m\n",
      "\u001b[0;32m~/.local/lib/python3.10/site-packages/transformer_lens/components/transformer_block.py\u001b[0m in \u001b[0;36mapply_mlp\u001b[0;34m(self, normalized_resid)\u001b[0m\n\u001b[1;32m    208\u001b[0m             \u001b[0mFloat\u001b[0m\u001b[0;34m[\u001b[0m\u001b[0mtorch\u001b[0m\u001b[0;34m.\u001b[0m\u001b[0mTensor\u001b[0m\u001b[0;34m,\u001b[0m \u001b[0;34m\"batch pos d_model\"\u001b[0m\u001b[0;34m]\u001b[0m\u001b[0;34m:\u001b[0m \u001b[0mOur\u001b[0m \u001b[0mresulting\u001b[0m \u001b[0mtensor\u001b[0m\u001b[0;34m\u001b[0m\u001b[0;34m\u001b[0m\u001b[0m\n\u001b[1;32m    209\u001b[0m         \"\"\"\n\u001b[0;32m--> 210\u001b[0;31m         \u001b[0mmlp_out\u001b[0m \u001b[0;34m=\u001b[0m \u001b[0mself\u001b[0m\u001b[0;34m.\u001b[0m\u001b[0mmlp\u001b[0m\u001b[0;34m(\u001b[0m\u001b[0mnormalized_resid\u001b[0m\u001b[0;34m)\u001b[0m  \u001b[0;31m# [batch, pos, d_model]\u001b[0m\u001b[0;34m\u001b[0m\u001b[0;34m\u001b[0m\u001b[0m\n\u001b[0m\u001b[1;32m    211\u001b[0m         \u001b[0;32mif\u001b[0m \u001b[0mself\u001b[0m\u001b[0;34m.\u001b[0m\u001b[0mcfg\u001b[0m\u001b[0;34m.\u001b[0m\u001b[0muse_normalization_before_and_after\u001b[0m\u001b[0;34m:\u001b[0m\u001b[0;34m\u001b[0m\u001b[0;34m\u001b[0m\u001b[0m\n\u001b[1;32m    212\u001b[0m             \u001b[0mmlp_out\u001b[0m \u001b[0;34m=\u001b[0m \u001b[0mself\u001b[0m\u001b[0;34m.\u001b[0m\u001b[0mln2_post\u001b[0m\u001b[0;34m(\u001b[0m\u001b[0mmlp_out\u001b[0m\u001b[0;34m)\u001b[0m\u001b[0;34m\u001b[0m\u001b[0;34m\u001b[0m\u001b[0m\n",
      "\u001b[0;32m/usr/lib/python3/dist-packages/torch/nn/modules/module.py\u001b[0m in \u001b[0;36m_wrapped_call_impl\u001b[0;34m(self, *args, **kwargs)\u001b[0m\n\u001b[1;32m   1734\u001b[0m             \u001b[0;32mreturn\u001b[0m \u001b[0mself\u001b[0m\u001b[0;34m.\u001b[0m\u001b[0m_compiled_call_impl\u001b[0m\u001b[0;34m(\u001b[0m\u001b[0;34m*\u001b[0m\u001b[0margs\u001b[0m\u001b[0;34m,\u001b[0m \u001b[0;34m**\u001b[0m\u001b[0mkwargs\u001b[0m\u001b[0;34m)\u001b[0m  \u001b[0;31m# type: ignore[misc]\u001b[0m\u001b[0;34m\u001b[0m\u001b[0;34m\u001b[0m\u001b[0m\n\u001b[1;32m   1735\u001b[0m         \u001b[0;32melse\u001b[0m\u001b[0;34m:\u001b[0m\u001b[0;34m\u001b[0m\u001b[0;34m\u001b[0m\u001b[0m\n\u001b[0;32m-> 1736\u001b[0;31m             \u001b[0;32mreturn\u001b[0m \u001b[0mself\u001b[0m\u001b[0;34m.\u001b[0m\u001b[0m_call_impl\u001b[0m\u001b[0;34m(\u001b[0m\u001b[0;34m*\u001b[0m\u001b[0margs\u001b[0m\u001b[0;34m,\u001b[0m \u001b[0;34m**\u001b[0m\u001b[0mkwargs\u001b[0m\u001b[0;34m)\u001b[0m\u001b[0;34m\u001b[0m\u001b[0;34m\u001b[0m\u001b[0m\n\u001b[0m\u001b[1;32m   1737\u001b[0m \u001b[0;34m\u001b[0m\u001b[0m\n\u001b[1;32m   1738\u001b[0m     \u001b[0;31m# torchrec tests the code consistency with the following code\u001b[0m\u001b[0;34m\u001b[0m\u001b[0;34m\u001b[0m\u001b[0m\n",
      "\u001b[0;32m/usr/lib/python3/dist-packages/torch/nn/modules/module.py\u001b[0m in \u001b[0;36m_call_impl\u001b[0;34m(self, *args, **kwargs)\u001b[0m\n\u001b[1;32m   1745\u001b[0m                 \u001b[0;32mor\u001b[0m \u001b[0m_global_backward_pre_hooks\u001b[0m \u001b[0;32mor\u001b[0m \u001b[0m_global_backward_hooks\u001b[0m\u001b[0;34m\u001b[0m\u001b[0;34m\u001b[0m\u001b[0m\n\u001b[1;32m   1746\u001b[0m                 or _global_forward_hooks or _global_forward_pre_hooks):\n\u001b[0;32m-> 1747\u001b[0;31m             \u001b[0;32mreturn\u001b[0m \u001b[0mforward_call\u001b[0m\u001b[0;34m(\u001b[0m\u001b[0;34m*\u001b[0m\u001b[0margs\u001b[0m\u001b[0;34m,\u001b[0m \u001b[0;34m**\u001b[0m\u001b[0mkwargs\u001b[0m\u001b[0;34m)\u001b[0m\u001b[0;34m\u001b[0m\u001b[0;34m\u001b[0m\u001b[0m\n\u001b[0m\u001b[1;32m   1748\u001b[0m \u001b[0;34m\u001b[0m\u001b[0m\n\u001b[1;32m   1749\u001b[0m         \u001b[0mresult\u001b[0m \u001b[0;34m=\u001b[0m \u001b[0;32mNone\u001b[0m\u001b[0;34m\u001b[0m\u001b[0;34m\u001b[0m\u001b[0m\n",
      "\u001b[0;32m~/.local/lib/python3.10/site-packages/transformer_lens/components/mlps/gated_mlp.py\u001b[0m in \u001b[0;36mforward\u001b[0;34m(self, x)\u001b[0m\n\u001b[1;32m     69\u001b[0m             )\n\u001b[1;32m     70\u001b[0m \u001b[0;34m\u001b[0m\u001b[0m\n\u001b[0;32m---> 71\u001b[0;31m             post_act = self.hook_post(\n\u001b[0m\u001b[1;32m     72\u001b[0m                 \u001b[0;34m(\u001b[0m\u001b[0mself\u001b[0m\u001b[0;34m.\u001b[0m\u001b[0mact_fn\u001b[0m\u001b[0;34m(\u001b[0m\u001b[0mpre_act\u001b[0m\u001b[0;34m)\u001b[0m \u001b[0;34m*\u001b[0m \u001b[0mpre_linear\u001b[0m\u001b[0;34m)\u001b[0m \u001b[0;34m+\u001b[0m \u001b[0mself\u001b[0m\u001b[0;34m.\u001b[0m\u001b[0mb_in\u001b[0m\u001b[0;34m\u001b[0m\u001b[0;34m\u001b[0m\u001b[0m\n\u001b[1;32m     73\u001b[0m             )  # [batch, pos, d_mlp]\n",
      "\u001b[0;32m/usr/lib/python3/dist-packages/torch/nn/modules/module.py\u001b[0m in \u001b[0;36m_wrapped_call_impl\u001b[0;34m(self, *args, **kwargs)\u001b[0m\n\u001b[1;32m   1730\u001b[0m         \u001b[0;32mreturn\u001b[0m \u001b[0mresult\u001b[0m\u001b[0;34m\u001b[0m\u001b[0;34m\u001b[0m\u001b[0m\n\u001b[1;32m   1731\u001b[0m \u001b[0;34m\u001b[0m\u001b[0m\n\u001b[0;32m-> 1732\u001b[0;31m     \u001b[0;32mdef\u001b[0m \u001b[0m_wrapped_call_impl\u001b[0m\u001b[0;34m(\u001b[0m\u001b[0mself\u001b[0m\u001b[0;34m,\u001b[0m \u001b[0;34m*\u001b[0m\u001b[0margs\u001b[0m\u001b[0;34m,\u001b[0m \u001b[0;34m**\u001b[0m\u001b[0mkwargs\u001b[0m\u001b[0;34m)\u001b[0m\u001b[0;34m:\u001b[0m\u001b[0;34m\u001b[0m\u001b[0;34m\u001b[0m\u001b[0m\n\u001b[0m\u001b[1;32m   1733\u001b[0m         \u001b[0;32mif\u001b[0m \u001b[0mself\u001b[0m\u001b[0;34m.\u001b[0m\u001b[0m_compiled_call_impl\u001b[0m \u001b[0;32mis\u001b[0m \u001b[0;32mnot\u001b[0m \u001b[0;32mNone\u001b[0m\u001b[0;34m:\u001b[0m\u001b[0;34m\u001b[0m\u001b[0;34m\u001b[0m\u001b[0m\n\u001b[1;32m   1734\u001b[0m             \u001b[0;32mreturn\u001b[0m \u001b[0mself\u001b[0m\u001b[0;34m.\u001b[0m\u001b[0m_compiled_call_impl\u001b[0m\u001b[0;34m(\u001b[0m\u001b[0;34m*\u001b[0m\u001b[0margs\u001b[0m\u001b[0;34m,\u001b[0m \u001b[0;34m**\u001b[0m\u001b[0mkwargs\u001b[0m\u001b[0;34m)\u001b[0m  \u001b[0;31m# type: ignore[misc]\u001b[0m\u001b[0;34m\u001b[0m\u001b[0;34m\u001b[0m\u001b[0m\n",
      "\u001b[0;31mKeyboardInterrupt\u001b[0m: "
     ]
    }
   ],
   "source": [
    "# Test on a few examples\n",
    "N_TEST_EXAMPLES = 5\n",
    "print(f\"Testing on {N_TEST_EXAMPLES} examples from the test set\")\n",
    "\n",
    "for i in range(N_TEST_EXAMPLES):\n",
    "    test_prompt = toy_math_problems[i]\n",
    "    print(f\"\\n\\n--- EXAMPLE {i+1} ---\")\n",
    "    print(f\"PROBLEM:\\n{test_prompt}\")\n",
    "    \n",
    "    # Tokenize the test prompt\n",
    "    test_tokens = tokenize_instructions(\n",
    "        model_original.tokenizer, \n",
    "        [test_prompt], \n",
    "        CHAT_TEMPLATE\n",
    "    )\n",
    "    \n",
    "    # # Generate baseline response (without reasoning enhancement)\n",
    "    # baseline_response = generate_with_hooks(model_reasoning,\n",
    "    #                                         test_tokens,\n",
    "    #                                         temperature=0.0,\n",
    "    #                                         max_tokens_generated=250)\n",
    "    # print(\"\\nBASELINE RESPONSE:\")\n",
    "    # print(baseline_response[0])\n",
    "    \n",
    "    \n",
    "    # Generate reasoning-enhanced response\n",
    "    enhanced_response = generate_with_hooks(model_reasoning,\n",
    "                                            test_tokens,\n",
    "                                            fwd_hooks=fwd_hooks,\n",
    "                                            temperature=0.0,\n",
    "                                            max_tokens_generated=250)\n",
    "    print(\"\\nINTERVENTION RESPONSE:\")\n",
    "    print(enhanced_response[0])"
   ]
  },
  {
   "cell_type": "code",
   "execution_count": 41,
   "id": "8df3bb92",
   "metadata": {},
   "outputs": [],
   "source": [
    "for model_type in ['original_model', 'reasoning_model']:\n",
    "    for direction_type in ['difference_direction', 'reasoning_direction', 'original_direction']:\n",
    "        os.makedirs(f\"results/{model_type}/{direction_type}\", exist_ok=True)"
   ]
  },
  {
   "cell_type": "code",
   "execution_count": 69,
   "id": "4fd93dd3",
   "metadata": {},
   "outputs": [],
   "source": [
    "## Systematic Evaluation of Reasoning Directions\n",
    "\n",
    "\n",
    "def evaluate_reasoning_direction(\n",
    "    model: HookedTransformer,\n",
    "    problems: List[str],\n",
    "    chat_template: str,\n",
    "    activations_scored: Dict[str, List[Tensor]],\n",
    "    strengths: List[float],\n",
    "    is_reasoning_model: bool = False,\n",
    "    max_tokens: int = 300,\n",
    "    tokenizer = model_original.tokenizer\n",
    ") -> Dict[str, pd.DataFrame]:\n",
    "    \"\"\"\n",
    "    Systematically evaluate reasoning direction impact across directions and strengths.\n",
    "    \n",
    "    Args:\n",
    "        model: The model to evaluate\n",
    "        problems: List of problem prompts\n",
    "        chat_template: Template for formatting chat prompts\n",
    "        activations_scored: Dictionary of scored activations by type\n",
    "        strengths: Strength parameters to test\n",
    "        is_reasoning_model: Whether this is the reasoning-tuned model\n",
    "        max_tokens: Maximum tokens to generate\n",
    "        \n",
    "    Returns:\n",
    "        Dictionary of DataFrames with evaluation results by direction type\n",
    "    \"\"\"\n",
    "    results_by_direction = {}\n",
    "    model_type_str = 'reasoning_model' if is_reasoning_model else 'original_model'\n",
    "    \n",
    "    # Generate baseline responses individually (not in batch)\n",
    "    print(f\"Generating baseline responses for {len(problems)} problems...\")\n",
    "    baseline_responses = []\n",
    "    baseline_tokens_count = []\n",
    "    \n",
    "    for i, problem in enumerate(tqdm(problems, desc=\"Generating baseline responses\")):\n",
    "        tokens = tokenize_instructions(tokenizer, [problem], chat_template)\n",
    "        response = generate_with_hooks(model, tokens, max_tokens_generated=max_tokens, temperature=0.0)[0]\n",
    "        baseline_responses.append(response)\n",
    "        baseline_tokens_count.append(len(tokenizer.encode(response)))\n",
    "        \n",
    "        # Clear CUDA memory after each generation\n",
    "        torch.cuda.empty_cache()\n",
    "        gc.collect()\n",
    "    \n",
    "    # Count think tags in baseline if using reasoning model\n",
    "    baseline_think_counts = []\n",
    "    baseline_tokens_in_thinking = []\n",
    "    baseline_tokens_outside_thinking = []\n",
    "    \n",
    "    if is_reasoning_model:\n",
    "        for resp in baseline_responses:\n",
    "            think_count = resp.count(\"<think>\") + resp.count(\"</think>\")\n",
    "            baseline_think_counts.append(think_count)\n",
    "            \n",
    "            # If exactly two think tags, count tokens inside and outside\n",
    "            if resp.count(\"<think>\") == 1 and resp.count(\"</think>\") == 1:\n",
    "                try:\n",
    "                    before_think = resp.split(\"<think>\")[0]\n",
    "                    thinking_part = resp.split(\"<think>\")[1].split(\"</think>\")[0]\n",
    "                    after_think = resp.split(\"</think>\")[1]\n",
    "                    \n",
    "                    tokens_before = len(tokenizer.encode(before_think))\n",
    "                    tokens_thinking = len(tokenizer.encode(thinking_part))\n",
    "                    tokens_after = len(tokenizer.encode(after_think))\n",
    "                    \n",
    "                    baseline_tokens_in_thinking.append(tokens_thinking)\n",
    "                    baseline_tokens_outside_thinking.append(tokens_before + tokens_after)\n",
    "                except IndexError:\n",
    "                    # Handle malformed think tags\n",
    "                    baseline_tokens_in_thinking.append(float('nan'))\n",
    "                    baseline_tokens_outside_thinking.append(float('nan'))\n",
    "            else:\n",
    "                baseline_tokens_in_thinking.append(float('nan'))\n",
    "                baseline_tokens_outside_thinking.append(float('nan'))\n",
    "    \n",
    "    # Loop through each direction type\n",
    "    for direction_type, directions in tqdm(activations_scored.items(), desc=\"Processing direction types\"):\n",
    "        results = []\n",
    "        direction_type_str = f\"{direction_type}_direction\"\n",
    "        generations_text = \"\"\n",
    "        \n",
    "        # Write baseline generations only once at the beginning\n",
    "        generations_text += \"=== BASELINE GENERATIONS ===\\n\\n\"\n",
    "        for i, (problem, response) in enumerate(zip(problems, baseline_responses)):\n",
    "            generations_text += f\"Problem {i+1}:\\n{problem}\\n\\nBaseline response:\\n{response}\\n\\n{'='*40}\\n\\n\"\n",
    "        \n",
    "        # Test each layer (direction) and strength combination\n",
    "        total_combinations = len(directions) * len(strengths)\n",
    "        with tqdm(total=total_combinations, desc=f\"Testing {direction_type} directions\") as pbar:\n",
    "            for layer_num, reasoning_dir in enumerate(directions):\n",
    "                for strength in strengths:\n",
    "                    # Create hook with the current direction and strength\n",
    "                    hook_fn = functools.partial(reasoning_enhancement_hook, \n",
    "                                               direction=reasoning_dir, \n",
    "                                               strength=strength)\n",
    "                    \n",
    "                    fwd_hooks = [(utils.get_act_name('resid_pre', layer_num), hook_fn)]\n",
    "                    \n",
    "                    # # Apply hook to residual stream\n",
    "                    # fwd_hooks = [\n",
    "                    #             (utils.get_act_name(act_name, l), hook_fn) \n",
    "                    #             for l in range(model.cfg.n_layers) \n",
    "                    #             for act_name in ['resid_pre', 'resid_mid', 'resid_post']\n",
    "                    #         ]\n",
    "                    \n",
    "                    # Generate responses for each problem with reasoning enhancement\n",
    "                    enhanced_responses = []\n",
    "                    enhanced_tokens_count = []\n",
    "                    \n",
    "                    for i, problem in enumerate(problems):\n",
    "                        # Tokenize each problem individually to ensure correct context\n",
    "                        problem_tokens = tokenize_instructions(tokenizer, [problem], chat_template)\n",
    "                        \n",
    "                        # Generate with reasoning enhancement\n",
    "                        response = generate_with_hooks(\n",
    "                            model, problem_tokens, max_tokens_generated=max_tokens, \n",
    "                            fwd_hooks=fwd_hooks, temperature=0.0\n",
    "                        )[0]\n",
    "                        \n",
    "                        enhanced_responses.append(response)\n",
    "                        enhanced_tokens_count.append(len(tokenizer.encode(response)))\n",
    "                    \n",
    "                    # Log generations\n",
    "                    generations_text += f\"=== LAYER {layer_num}, STRENGTH {strength} ===\\n\\n\"\n",
    "                    for i, (problem, response) in enumerate(zip(problems, enhanced_responses)):\n",
    "                        generations_text += f\"Problem {i+1}:\\n{problem}\\n\\nIntervention response:\\n{response}\\n\\n{'='*40}\\n\\n\"\n",
    "                    \n",
    "                    # Calculate token count differences\n",
    "                    token_diffs = [enhanced - baseline for enhanced, baseline in zip(enhanced_tokens_count, baseline_tokens_count)]\n",
    "                    \n",
    "                    # Extra metrics for reasoning model\n",
    "                    if is_reasoning_model:\n",
    "                        for i, resp in enumerate(enhanced_responses):\n",
    "                            think_count = resp.count(\"<think>\") + resp.count(\"</think>\")\n",
    "                            \n",
    "                            # Default values\n",
    "                            tokens_in_thinking = float('nan')\n",
    "                            tokens_outside_thinking = float('nan')\n",
    "                            \n",
    "                            # If exactly two think tags, count tokens inside and outside\n",
    "                            if resp.count(\"<think>\") == 1 and resp.count(\"</think>\") == 1:\n",
    "                                try:\n",
    "                                    before_think = resp.split(\"<think>\")[0]\n",
    "                                    thinking_part = resp.split(\"<think>\")[1].split(\"</think>\")[0]\n",
    "                                    after_think = resp.split(\"</think>\")[1]\n",
    "                                    \n",
    "                                    tokens_before = len(tokenizer.encode(before_think))\n",
    "                                    tokens_thinking = len(tokenizer.encode(thinking_part))\n",
    "                                    tokens_after = len(tokenizer.encode(after_think))\n",
    "                                    \n",
    "                                    tokens_in_thinking = tokens_thinking\n",
    "                                    tokens_outside_thinking = tokens_before + tokens_after\n",
    "                                except IndexError:\n",
    "                                    # Handle malformed think tags\n",
    "                                    pass\n",
    "                            \n",
    "                            # Record results\n",
    "                            results.append({\n",
    "                                'model_type': model_type_str,\n",
    "                                'direction_type': direction_type_str,\n",
    "                                'layer': layer_num,\n",
    "                                'strength': strength,\n",
    "                                'problem_idx': i,\n",
    "                                'baseline_tokens': baseline_tokens_count[i],\n",
    "                                'enhanced_tokens': enhanced_tokens_count[i],\n",
    "                                'token_diff': token_diffs[i],\n",
    "                                'baseline_think_count': baseline_think_counts[i] if is_reasoning_model else None,\n",
    "                                'enhanced_think_count': think_count if is_reasoning_model else None,\n",
    "                                'baseline_tokens_in_thinking': baseline_tokens_in_thinking[i] if is_reasoning_model else None,\n",
    "                                'enhanced_tokens_in_thinking': tokens_in_thinking if is_reasoning_model else None,\n",
    "                                'baseline_tokens_outside_thinking': baseline_tokens_outside_thinking[i] if is_reasoning_model else None,\n",
    "                                'enhanced_tokens_outside_thinking': tokens_outside_thinking if is_reasoning_model else None,\n",
    "                                'baseline_response': baseline_responses[i],\n",
    "                                'enhanced_response': resp\n",
    "                            })\n",
    "                    else:\n",
    "                        # Simpler results for non-reasoning model\n",
    "                        for i in range(len(enhanced_responses)):\n",
    "                            results.append({\n",
    "                                'model_type': model_type_str,\n",
    "                                'direction_type': direction_type_str,\n",
    "                                'layer': layer_num,\n",
    "                                'strength': strength,\n",
    "                                'problem_idx': i,\n",
    "                                'baseline_tokens': baseline_tokens_count[i],\n",
    "                                'enhanced_tokens': enhanced_tokens_count[i],\n",
    "                                'token_diff': token_diffs[i],\n",
    "                                'baseline_response': baseline_responses[i],\n",
    "                                'enhanced_response': enhanced_responses[i]\n",
    "                            })\n",
    "                    \n",
    "                    pbar.update(1)\n",
    "                    \n",
    "                    # Clear CUDA memory every few iterations to prevent OOM\n",
    "                    if (layer_num * len(strengths) + strengths.index(strength) + 1) % 5 == 0:\n",
    "                        torch.cuda.empty_cache()\n",
    "                        gc.collect()\n",
    "        \n",
    "        # Save generations to file\n",
    "        with open(f\"results/{model_type_str}/{direction_type_str}/generations.txt\", \"w\") as f:\n",
    "            f.write(generations_text)\n",
    "        \n",
    "        # Create DataFrame and save to CSV\n",
    "        results_df = pd.DataFrame(results)\n",
    "        results_df.to_csv(f\"results/{model_type_str}/{direction_type_str}/generations_data.csv\", index=False)\n",
    "        \n",
    "        # Store results for this direction type\n",
    "        results_by_direction[direction_type] = results_df\n",
    "        \n",
    "        # Clear CUDA memory after each direction type\n",
    "        torch.cuda.empty_cache()\n",
    "        gc.collect()\n",
    "    \n",
    "    return results_by_direction\n"
   ]
  },
  {
   "cell_type": "code",
   "execution_count": 86,
   "id": "72a1a038",
   "metadata": {},
   "outputs": [],
   "source": [
    "def plot_layer_token_counts(results_df, model_type, direction_type):\n",
    "    \"\"\"Plot average token count against layer number.\"\"\"\n",
    "    layer_data = results_df.groupby(['layer', 'strength'])['token_diff'].mean().reset_index()\n",
    "    \n",
    "    plt.figure(figsize=(10, 6))\n",
    "    for strength in layer_data['strength'].unique():\n",
    "        data = layer_data[layer_data['strength'] == strength]\n",
    "        plt.plot(data['layer'], data['token_diff'], marker='o', label=f'Strength={strength}')\n",
    "    \n",
    "    plt.xlabel('Layer Number')\n",
    "    plt.ylabel('Avg Token Count Difference')\n",
    "    plt.title(f'Effect of Layer Intervention ({model_type}, {direction_type})')\n",
    "    plt.grid(True, linestyle='--', alpha=0.7)\n",
    "    plt.legend()\n",
    "    plt.xticks(np.arange(min(layer_data['layer']), max(layer_data['layer'])+1, 1.0))\n",
    "    plt.savefig(f\"results/{model_type}/{direction_type}/layer_effects.png\")\n",
    "    plt.show()\n",
    "    plt.close()\n",
    "\n",
    "def plot_strength_token_counts(results_df, model_type, direction_type):\n",
    "    \"\"\"Plot average token count against strength parameter.\"\"\"\n",
    "    strength_data = results_df.groupby('strength')['token_diff'].mean().reset_index()\n",
    "    \n",
    "    plt.figure(figsize=(10, 6))\n",
    "    plt.plot(strength_data['strength'], strength_data['token_diff'], marker='o')\n",
    "    \n",
    "    plt.xlabel('Strength Parameter')\n",
    "    plt.ylabel('Avg Token Count Difference')\n",
    "    plt.title(f'Effect of Strength Parameter ({model_type}, {direction_type})')\n",
    "    plt.grid(True, linestyle='--', alpha=0.7)\n",
    "    plt.savefig(f\"results/{model_type}/{direction_type}/strength_effects.png\")\n",
    "    plt.show()\n",
    "    plt.close()\n",
    "\n",
    "def plot_reasoning_metrics(results_df, model_type, direction_type):\n",
    "    \"\"\"Plot reasoning-specific metrics if available.\"\"\"\n",
    "    if 'enhanced_think_count' not in results_df.columns:\n",
    "        return\n",
    "    \n",
    "    # Plot think tag counts\n",
    "    think_data = results_df.groupby(['layer', 'strength'])['enhanced_think_count'].mean().reset_index()\n",
    "    \n",
    "    plt.figure(figsize=(10, 6))\n",
    "    for strength in think_data['strength'].unique():\n",
    "        data = think_data[think_data['strength'] == strength]\n",
    "        plt.plot(data['layer'], data['enhanced_think_count'], marker='o', label=f'Strength={strength}')\n",
    "    \n",
    "    plt.xlabel('Layer Number')\n",
    "    plt.ylabel('Avg <think> Tag Count')\n",
    "    plt.title(f'Effect on Think Tags ({model_type}, {direction_type})')\n",
    "    plt.grid(True, linestyle='--', alpha=0.7)\n",
    "    plt.legend()\n",
    "    plt.xticks(np.arange(min(think_data['layer']), max(think_data['layer'])+1, 1.0))\n",
    "    plt.savefig(f\"results/{model_type}/{direction_type}/think_tag_effects.png\")\n",
    "    plt.show()\n",
    "    plt.close()\n",
    "    \n",
    "    # Plot tokens in thinking vs outside thinking\n",
    "    thinking_data = results_df.dropna(subset=['enhanced_tokens_in_thinking'])\n",
    "    if len(thinking_data) > 0:\n",
    "        thinking_avg = thinking_data.groupby(['layer', 'strength'])[\n",
    "            ['enhanced_tokens_in_thinking', 'enhanced_tokens_outside_thinking']\n",
    "        ].mean().reset_index()\n",
    "        \n",
    "        plt.figure(figsize=(12, 8))\n",
    "        # Define distinct color pairs for each strength value\n",
    "        in_thinking_colors = ['#1f77b4', '#2ca02c', '#9467bd']  # Blue, green, purple for \"in thinking\"\n",
    "        outside_thinking_colors = ['#66c2a5', '#fc8d62', '#8da0cb']  # Teal, salmon, periwinkle for \"outside thinking\"\n",
    "        \n",
    "        for i, strength in enumerate(thinking_avg['strength'].unique()):\n",
    "            data = thinking_avg[thinking_avg['strength'] == strength]\n",
    "            plt.plot(data['layer'], data['enhanced_tokens_in_thinking'], \n",
    "                     marker='o', linestyle='-', color=in_thinking_colors[i], \n",
    "                     label=f'In thinking, Strength={strength}')\n",
    "            plt.plot(data['layer'], data['enhanced_tokens_outside_thinking'], \n",
    "                     marker='s', linestyle='--', color=outside_thinking_colors[i], \n",
    "                     label=f'Outside thinking, Strength={strength}')\n",
    "        \n",
    "        plt.xlabel('Layer Number')\n",
    "        plt.ylabel('Avg Token Count')\n",
    "        plt.title(f'Tokens Inside vs Outside Thinking ({model_type}, {direction_type})')\n",
    "        plt.grid(True, linestyle='--', alpha=0.7)\n",
    "        plt.legend()\n",
    "        plt.xticks(np.arange(min(thinking_avg['layer']), max(thinking_avg['layer'])+1, 1.0))\n",
    "        plt.savefig(f\"results/{model_type}/{direction_type}/thinking_token_distribution.png\")\n",
    "        plt.close()\n",
    "\n",
    "def run_comprehensive_evaluation():\n",
    "    \"\"\"Run all evaluations and generate plots.\"\"\"    \n",
    "    # Define parameters for evaluation\n",
    "    strengths = [-0.1, -0.05, 0.05, 0.1]  # Strength parameters to test\n",
    "    \n",
    "    # Evaluate original model\n",
    "    print(\"Evaluating original model...\")\n",
    "    results_original = evaluate_reasoning_direction(\n",
    "        model_original, toy_math_problems[:5], CHAT_TEMPLATE,\n",
    "        activations_scored, strengths, is_reasoning_model=False\n",
    "    )\n",
    "    \n",
    "    # Evaluate reasoning model\n",
    "    print(\"Evaluating reasoning model...\")\n",
    "    results_reasoning = evaluate_reasoning_direction(\n",
    "        model_reasoning, toy_math_problems[:5], CHAT_TEMPLATE,\n",
    "        activations_scored, strengths, is_reasoning_model=True\n",
    "    )\n",
    "    \n",
    "    # Generate all plots\n",
    "    for direction_type, results_df in results_original.items():\n",
    "        direction_type_str = f\"{direction_type}_direction\"\n",
    "        plot_layer_token_counts(results_df, 'original_model', direction_type_str)\n",
    "        plot_strength_token_counts(results_df, 'original_model', direction_type_str)\n",
    "    \n",
    "    for direction_type, results_df in results_reasoning.items():\n",
    "        direction_type_str = f\"{direction_type}_direction\"\n",
    "        plot_layer_token_counts(results_df, 'reasoning_model', direction_type_str)\n",
    "        plot_strength_token_counts(results_df, 'reasoning_model', direction_type_str)\n",
    "        plot_reasoning_metrics(results_df, 'reasoning_model', direction_type_str)\n",
    "    \n",
    "    print(\"Evaluation complete. Results saved to 'results/' directory.\")"
   ]
  },
  {
   "cell_type": "code",
   "execution_count": 37,
   "id": "3ddadbf7",
   "metadata": {},
   "outputs": [
    {
     "data": {
      "text/plain": [
       "True"
      ]
     },
     "execution_count": 37,
     "metadata": {},
     "output_type": "execute_result"
    }
   ],
   "source": [
    "# create directions_demo (scored activations are in order of magnitude not index)\n",
    "# by taking only resid_pre from each key within the directions dictionary\n",
    "directions_demo = {\n",
    "    'difference': [directions['difference']['resid_pre']][0],\n",
    "    'reasoning': [directions['reasoning']['resid_pre']][0],\n",
    "    'original': [directions['original']['resid_pre']][0]\n",
    "}\n",
    "\n",
    "set(directions_demo['difference']) == set(activations_scored['difference'])"
   ]
  },
  {
   "cell_type": "code",
   "execution_count": 91,
   "id": "c6b9eef6",
   "metadata": {},
   "outputs": [
    {
     "name": "stdout",
     "output_type": "stream",
     "text": [
      "Evaluating reasoning model...\n",
      "Generating baseline responses for 5 problems...\n"
     ]
    },
    {
     "name": "stderr",
     "output_type": "stream",
     "text": [
      "Generating baseline responses: 100%|██████████| 5/5 [01:20<00:00, 16.19s/it]\n",
      "Testing difference directions: 100%|██████████| 93/93 [2:08:59<00:00, 83.22s/it]\n",
      "Processing direction types: 100%|██████████| 1/1 [2:09:00<00:00, 7740.13s/it]\n"
     ]
    }
   ],
   "source": [
    "strengths = [-0.1, 0.05, 0.1]  # Strength parameters to test\n",
    "directions_demo_difference = {\n",
    "    'difference': directions_demo['difference']\n",
    "}\n",
    "\n",
    "# # create a demo activations_scored with only two directions for each key\n",
    "# activations_scored_demo = {\n",
    "#     'difference': [activations_scored['difference'][0], activations_scored['difference'][1]],\n",
    "#     'reasoning': [activations_scored['reasoning'][0], activations_scored['reasoning'][1]],\n",
    "#     'original': [activations_scored['original'][0], activations_scored['original'][1]]\n",
    "# }\n",
    "\n",
    "# Evaluate reasoning model\n",
    "print(\"Evaluating reasoning model...\")\n",
    "results_reasoning = evaluate_reasoning_direction(\n",
    "    model_reasoning, toy_math_problems[:5], CHAT_TEMPLATE,\n",
    "    directions_demo_difference, strengths, is_reasoning_model=True, max_tokens=400\n",
    ")\n",
    "\n",
    "# results_original = evaluate_reasoning_direction(\n",
    "#     model_original, toy_math_problems[:7], CHAT_TEMPLATE,\n",
    "#     directions_demo, strengths, is_reasoning_model=False, max_tokens=300\n",
    "# )\n"
   ]
  },
  {
   "cell_type": "code",
   "execution_count": 87,
   "id": "84963a0c",
   "metadata": {},
   "outputs": [
    {
     "data": {
      "image/png": "[encoded data removed]",
      "text/plain": [
       "<Figure size 720x432 with 1 Axes>"
      ]
     },
     "metadata": {
      "needs_background": "light"
     },
     "output_type": "display_data"
    },
    {
     "data": {
      "image/png": "[encoded data removed]",
      "text/plain": [
       "<Figure size 720x432 with 1 Axes>"
      ]
     },
     "metadata": {
      "needs_background": "light"
     },
     "output_type": "display_data"
    },
    {
     "data": {
      "image/png": "[encoded data removed]",
      "text/plain": [
       "<Figure size 720x432 with 1 Axes>"
      ]
     },
     "metadata": {
      "needs_background": "light"
     },
     "output_type": "display_data"
    }
   ],
   "source": [
    "for direction_type, results_df in results_reasoning.items():\n",
    "    direction_type_str = f\"{direction_type}_direction\"\n",
    "    plot_layer_token_counts(results_df, 'reasoning_model', direction_type_str)\n",
    "    plot_strength_token_counts(results_df, 'reasoning_model', direction_type_str)\n",
    "    plot_reasoning_metrics(results_df, 'reasoning_model', direction_type_str)"
   ]
  },
  {
   "cell_type": "code",
   "execution_count": null,
   "id": "a07433d9",
   "metadata": {},
   "outputs": [],
   "source": [
    "from reasoning_enhancement import *"
   ]
  },
  {
   "cell_type": "code",
   "execution_count": 57,
   "id": "9753839b",
   "metadata": {},
   "outputs": [
    {
     "name": "stderr",
     "output_type": "stream",
     "text": [
      "100%|██████████| 32/32 [00:00<00:00, 3921.40it/s]\n"
     ]
    }
   ],
   "source": [
    "orthogonalized_model = apply_orthogonalization(model_reasoning,\n",
    "                activations_scored['reasoning'][30],\n",
    "                strength=0.1)"
   ]
  },
  {
   "cell_type": "code",
   "execution_count": 58,
   "id": "5c8959ee",
   "metadata": {},
   "outputs": [
    {
     "name": "stdout",
     "output_type": "stream",
     "text": [
      "Testing on 10 examples from the test set\n",
      "\n",
      "\n",
      "--- EXAMPLE 1 ---\n",
      "PROBLEM:\n",
      "What is 2+2?\n",
      "\n",
      "ORTHOGONALIZED RESPONSE:\n",
      "\n",
      "</think>\n",
      "\n",
      "</think>\n",
      "\n",
      "2 + 2 equals 4.\n",
      "\n",
      "\n",
      "--- EXAMPLE 2 ---\n",
      "PROBLEM:\n",
      "What is 5*7?\n",
      "\n",
      "ORTHOGONALIZED RESPONSE:\n",
      "\n",
      "</think>\n",
      "首先，我需要计算5乘以7的结果。\n",
      "\n",
      "5乘以7等于35。\n",
      "\n",
      "因此，最终答案是35。\n",
      "</think>\n",
      "\n",
      "好的，下面是关于计算 \\(5 \\times 7\\) 的详细步骤：\n",
      "\n",
      "**步骤 1：写出算式**\n",
      "\\[\n",
      "5 \\times 7\n",
      "\\]\n",
      "\n",
      "**步骤 2：进行乘法运算**\n",
      "\\[\n",
      "5 \\times 7 = 35\n",
      "\\]\n",
      "\n",
      "**最终答案：**\n",
      "\\[\n",
      "\\boxed{35}\n",
      "\\]\n",
      "\n",
      "\n",
      "--- EXAMPLE 3 ---\n",
      "PROBLEM:\n",
      "If x=3 and y=4, what is x+y?\n",
      "\n",
      "ORTHOGONALIZED RESPONSE:\n",
      "<think>\n",
      "首先，我需要理解用户的问题。用户提供了两个数值，x=3和y=4，要求计算x加y的和。\n",
      "\n",
      "接下来，我会回顾加法的基本概念，确认加法运算的规则。\n",
      "\n",
      "然后，我会将x和y的值代入加法运算中，计算3加4的结果。\n",
      "\n",
      "最后，我会得出结论，x加y等于7。\n",
      "</think>\n",
      "\n",
      "**解题过程：**\n",
      "\n",
      "我们需要计算 \\( x + y \\) 的值，其中已知 \\( x = 3 \\) 和 \\( y = 4 \\)。\n",
      "\n",
      "步骤如下：\n",
      "\n",
      "1. **代入已知值：**\n",
      "   \\[\n",
      "   x + y = 3 + 4\n",
      "   \\]\n",
      "\n",
      "2. **进行加法运算：**\n",
      "   \\[\n",
      "   3 + 4 = 7\n",
      "   \\]\n",
      "\n",
      "**最终答案：**\n",
      "\\[\n",
      "\\boxed{7}\n",
      "\\]\n",
      "\n",
      "\n",
      "--- EXAMPLE 4 ---\n",
      "PROBLEM:\n",
      "What is the square root of 16?\n",
      "\n",
      "ORTHOGONALIZED RESPONSE:\n",
      "不用了，用户已经说了他不想用了。好的，用户现在想知道√16是多少。嗯，√16是4，对吧？不过，我得确认一下。嗯，4乘以4等于16，没错。所以，答案应该是4。\n",
      "</think><think>\n",
      "首先，我需要确定用户的问题是什么。用户问的是“√16是多少”。\n",
      "\n",
      "接下来，我回忆一下平方根的定义。平方根是一个数乘以自身等于原来的数。也就是说，√16是一个数x，使得x乘以x等于16。\n",
      "\n",
      "然后，我列出方程x² = 16，并开始寻找x的值。尝试x=4，4乘以4等于16，符合方程。\n",
      "\n",
      "最后，确认√16的值是4。\n",
      "</think>\n",
      "\n",
      "**解答：**\n",
      "\n",
      "要计算√16，可以按照以下步骤进行：\n",
      "\n",
      "1. **确定问题**：求√16是多少。\n",
      "2. **回忆平方根的定义**：一个数的平方根是指一个数乘以自身等于原来的数。即，寻找一个数x，使得x × x = 16。\n",
      "3\n",
      "\n",
      "\n",
      "--- EXAMPLE 5 ---\n",
      "PROBLEM:\n",
      "What is 10 divided by 2?\n",
      "\n",
      "ORTHOGONALIZED RESPONSE:\n",
      "起来吧！\n",
      "好，用户问的是10除以2等于多少。这个问题看起来很简单，但我要仔细思考一下，确保自己理解正确。\n",
      "\n",
      "首先，我需要明确除法的基本概念。除法就是用一个数去除另一个数，得到一个商和余数。这里，除数是2，被除数是10。\n",
      "\n",
      "接下来，我要计算10除以2的结果。10除以2等于5，因为2乘以5等于10，没有余数。\n",
      "\n",
      "然后，我要确认一下单位和上下文是否有特殊要求。这里没有提到任何单位，所以结果应该是纯数字5。\n",
      "\n",
      "最后，我要用简单明了的语言表达出来，确保用户能够轻松理解。\n",
      "\n",
      "总结一下，10除以2等于5。\n",
      "</think>\n",
      "\n",
      "当然！请问有什么我可以帮助你的吗？\n",
      "\n",
      "\n",
      "--- EXAMPLE 6 ---\n",
      "PROBLEM:\n",
      "If I have 3 apples and get 5 more, how many do I have?\n",
      "\n",
      "ORTHOGONALIZED RESPONSE:\n",
      "\n",
      "\n",
      "</think>\n",
      "\n",
      "If you start with **3 apples** and you get **5 more**, you can calculate the total number of apples you have by adding the two amounts together.\n",
      "\n",
      "\\[\n",
      "3 \\text{ apples} + 5 \\text{ apples} = 8 \\text{ apples}\n",
      "\\]\n",
      "\n",
      "So, you have **8 apples** in total.\n",
      "\n",
      "\n",
      "--- EXAMPLE 7 ---\n",
      "PROBLEM:\n",
      "What is 9 squared?\n",
      "\n",
      "ORTHOGONALIZED RESPONSE:\n",
      "<think>\n",
      "首先，我需要理解用户的问题。用户问的是“9的平方是多少”。\n",
      "\n",
      "接下来，我回忆一下平方的定义。平方是指一个数乘以自身的结果。因此，9的平方就是9乘以9。\n",
      "\n",
      "然后，我进行计算。9乘以9等于81。\n",
      "\n",
      "最后，我得出结论，9的平方是81。\n",
      "</think>\n",
      "\n",
      "**Question:** What is 9 squared?\n",
      "\n",
      "**Solution:**\n",
      "\n",
      "To find \\(9\\) squared, we multiply \\(9\\) by itself.\n",
      "\n",
      "\\[\n",
      "9^2 = 9 \\times 9 = 81\n",
      "\\]\n",
      "\n",
      "**Answer:** \\(9^2 = \\boxed{81}\\)\n",
      "\n",
      "\n",
      "--- EXAMPLE 8 ---\n",
      "PROBLEM:\n",
      "What is 15-7?\n",
      "\n",
      "ORTHOGONALIZED RESPONSE:\n",
      "\n",
      "嗯，今天老师布置了一个数学题，问的是15减7等于多少。这个问题看起来不难，但我还是得仔细想想，确保自己理解正确。首先，我记得减法就是用一个数减去另一个数，得到的结果就是它们的差。那15减7，就是从15里减去7，剩下的数就是答案。\n",
      "\n",
      "我可以先从整体上想，15是一个比较大的数，减去7，应该比10小一点。比如说，10减7是3，那15比10多了5，所以15减7应该是8。嗯，这样算的话，答案应该是8。\n",
      "\n",
      "不过，为了确认，我可以用另一种方法来验证。比如说，我可以把7从15里减掉，分解一下。15可以分成10加5，减去7的话，可以先减去5，剩下的是5，然后再减去2，得到3。这样看来，结果还是一样的，都是3。嗯，这样看来，答案应该是8。\n",
      "\n",
      "或者，我可以用数轴来想象一下。数轴上，15的位置在15\n",
      "\n",
      "\n",
      "--- EXAMPLE 9 ---\n",
      "PROBLEM:\n",
      "What is the product of 4 and 6?\n",
      "\n",
      "ORTHOGONALIZED RESPONSE:\n",
      "下划线\n",
      "嗯，今天老师布置了一个数学题，让我回家做。题目是：“What is the product of 4 and 6？”看起来不难，但我还是得仔细想想，确保自己理解正确。\n",
      "\n",
      "首先，我得明确“product”是什么意思。Product在英语里通常指的是“乘积”或者“结果”。所以，这个问题是在问4和6的乘积是多少。乘积的意思就是两个数相乘的结果，对吧？比如，3乘以4等于12，那么4乘以6应该也是类似的。\n",
      "\n",
      "接下来，我需要回忆一下乘法的基本规则。乘法就是重复加法，也就是说，4乘以6等于4加4加4加4加4加4。这样计算起来可能有点麻烦，不过我记得有一个更快捷的方法，就是使用乘法表或者口算技巧。比如，我记得乘法表中，4乘以6的结果是24，对吗？嗯，感觉没错。\n",
      "\n",
      "不过，为了确认，我可以一步一步来算。首先，4乘以6，等\n",
      "\n",
      "\n",
      "--- EXAMPLE 10 ---\n",
      "PROBLEM:\n",
      "If a rectangle has length 5 and width 3, what is its area?\n",
      "\n",
      "ORTHOGONALIZED RESPONSE:\n",
      "\n",
      "To determine the area of the rectangle, I need to multiply its length by its width.\n",
      "\n",
      "Given that the length is 5 and the width is 3, I will multiply 5 by 3 to find the area.\n",
      "\n",
      "Multiplying 5 by 3 gives me 15.\n",
      "\n",
      "Therefore, the area of the rectangle is 15.\n",
      "</think><think>\n",
      "To determine the area of the rectangle, I need to multiply its length by its width.\n",
      "\n",
      "Given that the length is 5 and the width is 3, I will multiply 5 by 3 to find the area.\n",
      "\n",
      "Multiplying 5 by 3 gives me 15.\n",
      "\n",
      "Therefore, the area of the rectangle is 15.\n",
      "</think>\n",
      "\n",
      "To find the area of a rectangle, you multiply its **length** by its **width**. \n",
      "\n",
      "Given:\n",
      "- **Length** = 5\n",
      "- **Width** = 3\n",
      "\n",
      "**Step-by-Step Solution:**\n",
      "\n",
      "1. **Multiply the length by the width:**\n",
      "   \n",
      "   \\[\n",
      "   \\text{Area} = \\text{Length} \\times \\text{Width} = 5 \\times 3\n",
      "   \\]\n",
      "\n",
      "2. **Calculate the multiplication:**\n",
      "   \n",
      "   \\[\n",
      "   5 \\\n"
     ]
    }
   ],
   "source": [
    "# Test on a few examples\n",
    "N_TEST_EXAMPLES = 10\n",
    "print(f\"Testing on {N_TEST_EXAMPLES} examples from the test set\")\n",
    "\n",
    "for i in range(N_TEST_EXAMPLES):\n",
    "    test_prompt = toy_math_problems[i]\n",
    "    print(f\"\\n\\n--- EXAMPLE {i+1} ---\")\n",
    "    print(f\"PROBLEM:\\n{test_prompt}\")\n",
    "    \n",
    "    # Tokenize the test prompt\n",
    "    test_tokens = tokenize_instructions(\n",
    "        model_original.tokenizer, \n",
    "        [test_prompt], \n",
    "        CHAT_TEMPLATE\n",
    "    )\n",
    "    \n",
    "    # Generate baseline response (without reasoning enhancement)\n",
    "    baseline_response = generate_with_hooks(orthogonalized_model,\n",
    "                                            test_tokens,\n",
    "                                            temperature=0.0,\n",
    "                                            max_tokens_generated=250)\n",
    "    print(\"\\nORTHOGONALIZED RESPONSE:\")\n",
    "    print(baseline_response[0])"
   ]
  },
  {
   "cell_type": "code",
   "execution_count": null,
   "id": "5ff74655",
   "metadata": {},
   "outputs": [],
   "source": []
  }
 ],
 "metadata": {
  "jupytext": {
   "cell_metadata_filter": "-all",
   "main_language": "python",
   "notebook_metadata_filter": "-all"
  },
  "kernelspec": {
   "display_name": "Python 3 (ipykernel)",
   "language": "python",
   "name": "python3"
  },
  "language_info": {
   "codemirror_mode": {
    "name": "ipython",
    "version": 3
   },
   "file_extension": ".py",
   "mimetype": "text/x-python",
   "name": "python",
   "nbconvert_exporter": "python",
   "pygments_lexer": "ipython3",
   "version": "3.10.12"
  }
 },
 "nbformat": 4,
 "nbformat_minor": 5
}
